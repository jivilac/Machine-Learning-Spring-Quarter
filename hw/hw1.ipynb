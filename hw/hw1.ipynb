{
 "cells": [
  {
   "cell_type": "markdown",
   "metadata": {},
   "source": [
    "# Homework 1\n"
   ]
  },
  {
   "cell_type": "markdown",
   "metadata": {},
   "source": [
    "Name: **Juan Vila**"
   ]
  },
  {
   "cell_type": "markdown",
   "metadata": {},
   "source": [
    "## Question 1\n",
    "Which of the following matrices are positive semi-definite and hence valid covariance matrices?\n",
    "### Section A\n",
    "We know that the condition for proof that a matrix A is semi defintive positive is that for a non zero vector v we have the following result $v^{T}Av >= 0 $\n",
    "\n",
    "$$\\begin{pmatrix} a & b \\end{pmatrix} \\begin{pmatrix} 1 & 1 \\\\ 1 & 1 \\end{pmatrix} \\begin{pmatrix} a \\\\  b \\end{pmatrix}$$\n",
    "\n",
    "Solving this multiplication we got that $ a(a+b) + b(a+b) = (a+b)^2 $ which is positive for any value of $a$ and $b$, then definite positive, then semi definite positive.\n",
    "### Section B\n",
    "We know that the condition for proof that a matrix A is semi defintive positive is that for a non zero vector v we have the following result $v^{T}Av >= 0 $\n",
    "\n",
    "$$\\begin{pmatrix} a & b \\end{pmatrix} \\begin{pmatrix} 0 & 1 \\\\ 1 & 1 \\end{pmatrix} \\begin{pmatrix} a \\\\  b \\end{pmatrix}$$\n",
    "\n",
    "Solving this multiplication we got that $ 2ab + b^2 = b(2a+b) $ which is positive if $b>0$ and $2a+b>0$ or can be negative if $b<0$ and $2a+b<0$ which implies that is not semi-definite positive.\n",
    "### Section C\n",
    "We know that the condition for proof that a matrix A is semi defintive positive is that for a non zero vector v we have the following result $v^{T}Av >= 0 $\n",
    "\n",
    "$$\\begin{pmatrix} a & b \\end{pmatrix} \\begin{pmatrix} 0 & 1 \\\\ -1 & 1 \\end{pmatrix} \\begin{pmatrix} a \\\\  b \\end{pmatrix}$$\n",
    "\n",
    "Solving this multiplication we got that $ -ab + ab + b^2 = b^2 $ which is positive for any value of $a$ and $b$, then definite positive, then semi definite positive. However, it's not symetric, this implies that is not a covariance matrix\n",
    "### Section D\n",
    "We know that the condition for proof that a matrix A is semi defintive positive is that for a non zero vector v we have the following result $v^{T}Av >= 0 $\n",
    "\n",
    "$$\\begin{pmatrix} a & b \\end{pmatrix} \\begin{pmatrix} 1 & -1 \\\\ -1 & 1 \\end{pmatrix} \\begin{pmatrix} a \\\\  b \\end{pmatrix}$$\n",
    "\n",
    "Solving this multiplication we got that $ a^2 -ab - ab + b^2 = (a-b)^2 $ which is positive for any value of $a$ and $b$, then definite positive, then semi definite positive.\n",
    "\n",
    "## Question 2\n",
    "\n",
    "### Section A\n",
    "One way to show this proposition is by contradiction. Using the normal equation $X^T X \\hat{\\theta}=X^TY$ and assuming that there is another vector of parameters $\\hat{\\alpha}$ that minimize the lost function we could write the model as $Y=\\hat{\\alpha} X$ then if we replace into the normal equation we got that $X^T X \\hat{\\theta}=X^T X \\hat{\\alpha}$. Then if it's invertible implies that  $\\hat{\\alpha} = \\hat{\\theta}$, meaning that $\\hat{\\theta}$ is unique.\n",
    "\n",
    "### Section B\n",
    "\n",
    "In this part we are going to argue as $p>n$ implies that $rank(X)=n$ which implies that $rank(X^T X)=n$, but the dimensions of $X^T X$ is $p x p$, which means that are at least $p-n$ rows and columns that are LD, which implies that when we try to solve the normal equations we have more variables than equations which means that the system of equations have infinites solutions.\n",
    "\n",
    "## Question 3\n",
    "\n",
    "### Section A\n",
    "\n",
    "#### Bias\n",
    "$$ E\\left[\\hat{\\mu}\\right]-\\mu = E\\left[\\frac{1}{m} \\sum_{i=1}^{m}z_i\\right] - \\mu$$\n",
    "$$ E\\left[\\hat{\\mu}\\right]-\\mu = \\frac{1}{m} \\sum_{i=1}^{m}E\\left[z_i\\right] - \\mu$$\n",
    "$$ E\\left[\\hat{\\mu}\\right]-\\mu = \\frac{1}{m} \\sum_{i=1}^{m}\\mu - \\mu$$\n",
    "$$ E\\left[\\hat{\\mu}\\right]-\\mu = \\frac{1}{m} m\\mu - \\mu$$\n",
    "$$ E\\left[\\hat{\\mu}\\right]-\\mu = \\mu - \\mu$$\n",
    "$$ E\\left[\\hat{\\mu}\\right]-\\mu = 0$$\n",
    "\n",
    "#### Variance\n",
    "$$ Var\\left[\\hat{\\mu}\\right] = Var\\left[\\frac{1}{m} \\sum_{i=1}^{m}z_i\\right]$$\n",
    "$$ Var\\left[\\hat{\\mu}\\right] = \\frac{1}{m^2} \\sum_{i=1}^{m}Var\\left[z_i\\right]$$\n",
    "$$ Var\\left[\\hat{\\mu}\\right] = \\frac{1}{m^2} \\sum_{i=1}^{m}\\sigma^2$$\n",
    "$$ Var\\left[\\hat{\\mu}\\right] = \\frac{1}{m^2} m\\sigma^2$$\n",
    "$$ Var\\left[\\hat{\\mu}\\right] = \\frac{\\sigma^2}{m}$$\n",
    "\n",
    "#### MSE\n",
    "$$ MSE = Bias^2 + Variance $$\n",
    "$$ MSE = \\frac{\\sigma^2}{m} $$\n",
    "\n",
    "\n",
    "### Section B\n",
    "\n",
    "#### Bias\n",
    "$$ E\\left[\\hat{\\mu_0}\\right]-\\mu_0 = E\\left[0\\right] - \\mu_0$$\n",
    "$$ E\\left[\\hat{\\mu_0}\\right]-\\mu_0 = -\\mu_0 $$\n",
    "\n",
    "#### Variance\n",
    "$$ Var\\left[\\hat{\\mu_0}\\right] = Var\\left[0\\right]$$\n",
    "$$ Var\\left[\\hat{\\mu_0}\\right] = 0 $$\n",
    "\n",
    "#### MSE\n",
    "$$ MSE = Bias^2 + Variance $$\n",
    "$$ MSE = -\\mu_0  $$\n",
    "\n",
    "### Section C\n",
    "\n",
    "We know that the estimator is $\\hat{\\mu}_{\\lambda,m} = \\lambda\\hat{\\mu}_m + (1-\\lambda) \\hat{\\mu}_0$, the the bias is \n",
    "#### Bias\n",
    "$$ E\\left[\\hat{\\mu}_{\\lambda,m}\\right]-\\mu_{\\lambda,m} = E\\left[\\lambda \\hat{\\mu}_m + (1-\\lambda) \\hat{\\mu}_0\\right] - \\lambda \\mu_m + (1-\\lambda) \\mu_0$$\n",
    "$$ E\\left[\\hat{\\mu}_{\\lambda,m}\\right]-\\mu_{\\lambda,m} =  \\lambda E\\left[\\hat{\\mu}_m\\right] + (1-\\lambda) E\\left[\\hat{\\mu}_0\\right] - \\lambda \\mu_m - (1-\\lambda) \\mu_0$$\n",
    "$$ E\\left[\\hat{\\mu}_{\\lambda,m}\\right]-\\mu_{\\lambda,m} =  \\lambda \\mu_m  - \\lambda \\mu_m - (1-\\lambda) \\mu_0$$\n",
    "$$ E\\left[\\hat{\\mu}_{\\lambda,m}\\right]-\\mu_{\\lambda,m} =  - (1-\\lambda) \\mu_0$$\n",
    "\n",
    "\n",
    "#### Variance\n",
    "$$ Var\\left[\\hat{\\mu}_{\\lambda,m}\\right] = Var\\left[\\lambda \\hat{\\mu}_m + (1-\\lambda) \\hat{\\mu}_0\\right] $$\n",
    "$$ Var\\left[\\hat{\\mu}_{\\lambda,m}\\right]= \\lambda^2 Var\\left[ \\hat{\\mu}_m\\right] +  (1-\\lambda)^2 Var\\left[ \\hat{\\mu}_0\\right]  $$\n",
    "$$ Var\\left[\\hat{\\mu}_{\\lambda,m}\\right]= \\lambda^2 \\frac{\\sigma^2}{m}$$\n",
    "\n",
    "#### MSE\n",
    "$$ MSE = Bias^2 + Variance $$\n",
    "$$ MSE = (- (1-\\lambda)\\mu_0)^2 +  \\lambda^2 \\frac{\\sigma^2}{m}  $$\n",
    "$$ MSE = (1-2\\lambda+\\lambda^2)\\mu_0^2 +  \\lambda^2 \\frac{\\sigma^2}{m}  $$\n",
    "\n",
    "Now that we have an expresion for MSE, we can minimize $\\lambda$, for doing this we can take the derivate. The only thing that we have to worry is that the function is convex, since if it is convex, the optimization result is a minimium. This can be ensure because $\\lambda$ square have positive signs (the variance is always positive and $\\mu_0$ is squared), meaning that the result is minimium.\n",
    "\n",
    "$$ \\frac{\\partial MSE}{\\partial \\lambda}= (-2+2\\lambda)\\mu_0^2 +  2\\lambda \\frac{\\sigma^2}{m}  $$\n",
    "$$ (-2+2\\lambda)\\mu_0^2 +  2\\lambda \\frac{\\sigma^2}{m} = 0  $$\n",
    "$$ \\lambda\\mu_0^2 +  \\lambda \\frac{\\sigma^2}{m} = \\mu_0^2   $$\n",
    "$$ \\lambda^* = \\frac{\\mu_0^2}{\\mu_0^2 + \\frac{\\sigma^2}{m}}  $$"
   ]
  },
  {
   "cell_type": "markdown",
   "metadata": {},
   "source": [
    "## Question 4\n",
    "### Section A\n",
    "We know that the covariance is\n",
    "$$ COV\\left[\\hat{Y}\\right]=E\\left[\n",
    "\\left[Y-E\\left[\\hat{Y}\\right]\\right]\n",
    "\\left[Y-E\\left[\\hat{Y}\\right]\\right]^T\n",
    "\\right] $$\n",
    "\n",
    "For calculating the covariance we need to calculate the expected value of $Y$, this is:\n",
    "\n",
    "$$ Y = X \\theta + \\epsilon $$\n",
    "$$ E\\left[Y\\right] =  E\\left[X \\theta\\right] +  E\\left[\\epsilon\\right] $$\n",
    "$$ E\\left[Y\\right] =  \\theta E\\left[X \\right] +  E\\left[\\epsilon\\right] $$\n",
    "Using the facts that the mean of $\\theta$ and $\\epsilon$ is zero, we replace an get the result that expected value of Y is zero. Now if we replace this fact into the covarinace we get the following result.\n",
    "\n",
    "$$ COV\\left[\\hat{Y}\\right]=E\\left[\n",
    "\\left[Y\\right]\n",
    "\\left[Y\\right]^T\n",
    "\\right] $$\n",
    "\n",
    "Now if we replace by the process that create Y, we have the following result:\n",
    "\n",
    "$$ COV\\left[\\hat{Y}\\right]=E\\left[\n",
    "\\left[ X \\theta + \\epsilon \\right]\n",
    "\\left[ X \\theta + \\epsilon \\right]^T\n",
    "\\right] $$\n",
    "\n",
    "\n",
    "$$ COV\\left[\\hat{Y}\\right]=E\\left[\\theta X X^T\\theta^T+ 2X^T \\theta^T \\epsilon + \\epsilon^T\\epsilon\n",
    "\\right] $$\n",
    "Using the fact that constants we can get out of the expectation operator, $\\epsilon$ and $\\sigma$ are independent, the covariance equal to zero, and replacing the variances of  $\\epsilon$ and $\\sigma$ we get:\n",
    "$$ COV\\left[\\hat{Y}\\right]=\\sigma^2_\\theta X X^T  +\\sigma^2_\\epsilon$$\n",
    "\n",
    "### Section B\n",
    "Since the p vector are orthonormal, impliest that $X^T X = I$, then we can argue that :\n",
    "$$B=XX^T$$\n",
    "$$XB=XX^TX$$\n",
    "$$XB=X$$\n",
    "\n",
    "Using this result we can modify the covariance result in the following wat\n",
    "\n",
    "\n",
    "$$ COV\\left[\\hat{Y}\\right]X=\\sigma^2_\\theta I_pX X^TX   +\\sigma^2_\\epsilon X$$\n",
    "$$ COV\\left[\\hat{Y}\\right]X=(\\sigma^2_\\theta I_p    +\\sigma^2_\\epsilon )X$$\n",
    "\n",
    "\n",
    "Then we can see that $X$ is the eigenvector for the covariance matrix and the eigenvalues is $(\\sigma^2_\\theta I_p    +\\sigma^2_\\epsilon )$ \n"
   ]
  },
  {
   "cell_type": "markdown",
   "metadata": {},
   "source": [
    "### Section C"
   ]
  },
  {
   "cell_type": "code",
   "execution_count": 113,
   "metadata": {},
   "outputs": [],
   "source": [
    "import numpy as np\n",
    "import matplotlib.pyplot as plt\n",
    "M = 10000\n",
    "n = 32\n",
    "p = 2\n",
    "sig_t = 0.1\n",
    "sig_e = 0.01;\n",
    "#t = (0:(n-1))’/n;\n",
    "#X = np.ones((n,p))\n",
    "#for f in range(p-2):\n",
    "#    X[:,f+2] = np.kron(np.ones(2^f,1),np.kron(np.transpose([1,-1]),np.ones(n/2^(f+1),1)))\n",
    "\n",
    "    \n",
    "X = np.ones((n, p))\n",
    "for f in range(p - 1):\n",
    "    X[:, f + 1] = np.kron(np.ones(pow(2, f)), np.kron(np.transpose([1, -1]), np.ones(n//pow(2, f+1))))\n",
    "    \n",
    "def normalize_rows(x: np.ndarray):\n",
    "    \"\"\"\n",
    "    function that normalizes each row of the matrix x to have unit length.\n",
    "\n",
    "    Args:\n",
    "     ``x``: A numpy matrix of shape (n, m)\n",
    "\n",
    "    Returns:\n",
    "     ``x``: The normalized (by row) numpy matrix.\n",
    "    \"\"\"\n",
    "    return x/np.linalg.norm(x, ord=2, axis=1, keepdims=True)\n",
    "\n",
    "X = normalize_rows(X)\n",
    "S = np.zeros(n)\n",
    "\n",
    "for m in range(M-1):\n",
    "    theta = np.random.randn(p,1)*sig_t\n",
    "    y = np.dot(X,theta) + np.random.randn(n,1)*sig_e\n",
    "    S = S + np.dot(y,np.transpose(y))\n",
    "S = S/M\n"
   ]
  },
  {
   "cell_type": "code",
   "execution_count": 115,
   "metadata": {},
   "outputs": [],
   "source": [
    "eigenvals = np.linalg.eigvals(S)"
   ]
  },
  {
   "cell_type": "code",
   "execution_count": 116,
   "metadata": {},
   "outputs": [],
   "source": [
    "eigenvectors = np.linalg.eig(S)"
   ]
  },
  {
   "cell_type": "code",
   "execution_count": 133,
   "metadata": {},
   "outputs": [
    {
     "data": {
      "text/plain": [
       "Text(0, 0.5, 'First Eigenvector')"
      ]
     },
     "execution_count": 133,
     "metadata": {},
     "output_type": "execute_result"
    },
    {
     "data": {
      "image/png": "[encoded data removed]",
      "text/plain": [
       "<Figure size 432x288 with 1 Axes>"
      ]
     },
     "metadata": {
      "needs_background": "light"
     },
     "output_type": "display_data"
    }
   ],
   "source": [
    "plt.scatter(X[:,0],eigenvectors[1][:,0])\n",
    "plt.title('Relation X_0 with first eigenvector')\n",
    "plt.xlabel('X')\n",
    "plt.ylabel('First Eigenvector')"
   ]
  },
  {
   "cell_type": "code",
   "execution_count": 134,
   "metadata": {},
   "outputs": [
    {
     "data": {
      "text/plain": [
       "Text(0, 0.5, 'Second Eigenvector')"
      ]
     },
     "execution_count": 134,
     "metadata": {},
     "output_type": "execute_result"
    },
    {
     "data": {
      "image/png": "[encoded data removed]",
      "text/plain": [
       "<Figure size 432x288 with 1 Axes>"
      ]
     },
     "metadata": {
      "needs_background": "light"
     },
     "output_type": "display_data"
    }
   ],
   "source": [
    "plt.scatter(X[:,1],eigenvectors[1][:,1])\n",
    "plt.title('Relation X_1 with second eigenvector')\n",
    "plt.xlabel('X')\n",
    "plt.ylabel('Second Eigenvector')"
   ]
  },
  {
   "cell_type": "markdown",
   "metadata": {},
   "source": [
    "We can see that in the case of the first and second eigenvectors we have a close relations with X, in the case of the scond one, the realtion is basically lineal. Which is relateed to the principal component direction."
   ]
  }
 ],
 "metadata": {
  "kernelspec": {
   "display_name": "Python 3",
   "language": "python",
   "name": "python3"
  },
  "language_info": {
   "codemirror_mode": {
    "name": "ipython",
    "version": 3
   },
   "file_extension": ".py",
   "mimetype": "text/x-python",
   "name": "python",
   "nbconvert_exporter": "python",
   "pygments_lexer": "ipython3",
   "version": "3.7.4"
  }
 },
 "nbformat": 4,
 "nbformat_minor": 2
}
