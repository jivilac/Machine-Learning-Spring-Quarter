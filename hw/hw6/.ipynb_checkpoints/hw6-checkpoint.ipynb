{
 "cells": [
  {
   "cell_type": "code",
   "execution_count": 16,
   "metadata": {},
   "outputs": [],
   "source": [
    "clf=clf.fit(X_train,y_train)"
   ]
  },
  {
   "cell_type": "code",
   "execution_count": 17,
   "metadata": {},
   "outputs": [
    {
     "data": {
      "text/plain": [
       "array([[0.3804878 , 0.6195122 ],\n",
       "       [0.3804878 , 0.6195122 ],\n",
       "       [0.3804878 , 0.6195122 ],\n",
       "       [0.3804878 , 0.6195122 ],\n",
       "       [0.3804878 , 0.6195122 ],\n",
       "       [0.3804878 , 0.6195122 ],\n",
       "       [0.3804878 , 0.6195122 ],\n",
       "       [0.3804878 , 0.6195122 ],\n",
       "       [0.94285714, 0.05714286],\n",
       "       [0.3804878 , 0.6195122 ],\n",
       "       [0.3804878 , 0.6195122 ],\n",
       "       [0.3804878 , 0.6195122 ],\n",
       "       [0.3804878 , 0.6195122 ],\n",
       "       [0.3804878 , 0.6195122 ],\n",
       "       [0.3804878 , 0.6195122 ],\n",
       "       [0.3804878 , 0.6195122 ],\n",
       "       [0.3804878 , 0.6195122 ],\n",
       "       [0.3804878 , 0.6195122 ],\n",
       "       [0.3804878 , 0.6195122 ],\n",
       "       [0.3804878 , 0.6195122 ],\n",
       "       [0.3804878 , 0.6195122 ],\n",
       "       [0.3804878 , 0.6195122 ],\n",
       "       [0.3804878 , 0.6195122 ],\n",
       "       [0.3804878 , 0.6195122 ],\n",
       "       [0.3804878 , 0.6195122 ],\n",
       "       [0.3804878 , 0.6195122 ],\n",
       "       [0.3804878 , 0.6195122 ],\n",
       "       [0.94285714, 0.05714286],\n",
       "       [0.3804878 , 0.6195122 ],\n",
       "       [0.3804878 , 0.6195122 ],\n",
       "       [0.3804878 , 0.6195122 ],\n",
       "       [0.3804878 , 0.6195122 ],\n",
       "       [0.3804878 , 0.6195122 ],\n",
       "       [0.3804878 , 0.6195122 ],\n",
       "       [0.3804878 , 0.6195122 ],\n",
       "       [0.3804878 , 0.6195122 ],\n",
       "       [0.3804878 , 0.6195122 ],\n",
       "       [0.3804878 , 0.6195122 ],\n",
       "       [0.3804878 , 0.6195122 ],\n",
       "       [0.3804878 , 0.6195122 ],\n",
       "       [0.3804878 , 0.6195122 ],\n",
       "       [0.3804878 , 0.6195122 ],\n",
       "       [0.3804878 , 0.6195122 ],\n",
       "       [0.3804878 , 0.6195122 ],\n",
       "       [0.3804878 , 0.6195122 ],\n",
       "       [0.3804878 , 0.6195122 ],\n",
       "       [0.3804878 , 0.6195122 ],\n",
       "       [0.3804878 , 0.6195122 ],\n",
       "       [0.94285714, 0.05714286],\n",
       "       [0.3804878 , 0.6195122 ],\n",
       "       [0.3804878 , 0.6195122 ],\n",
       "       [0.3804878 , 0.6195122 ],\n",
       "       [0.3804878 , 0.6195122 ],\n",
       "       [0.3804878 , 0.6195122 ],\n",
       "       [0.3804878 , 0.6195122 ],\n",
       "       [0.3804878 , 0.6195122 ],\n",
       "       [0.3804878 , 0.6195122 ],\n",
       "       [0.3804878 , 0.6195122 ],\n",
       "       [0.3804878 , 0.6195122 ],\n",
       "       [0.3804878 , 0.6195122 ],\n",
       "       [0.3804878 , 0.6195122 ],\n",
       "       [0.3804878 , 0.6195122 ],\n",
       "       [0.3804878 , 0.6195122 ],\n",
       "       [0.3804878 , 0.6195122 ],\n",
       "       [0.3804878 , 0.6195122 ],\n",
       "       [0.94285714, 0.05714286],\n",
       "       [0.3804878 , 0.6195122 ],\n",
       "       [0.3804878 , 0.6195122 ],\n",
       "       [0.3804878 , 0.6195122 ],\n",
       "       [0.3804878 , 0.6195122 ],\n",
       "       [0.94285714, 0.05714286],\n",
       "       [0.3804878 , 0.6195122 ],\n",
       "       [0.3804878 , 0.6195122 ],\n",
       "       [0.3804878 , 0.6195122 ],\n",
       "       [0.3804878 , 0.6195122 ],\n",
       "       [0.94285714, 0.05714286],\n",
       "       [0.3804878 , 0.6195122 ],\n",
       "       [0.3804878 , 0.6195122 ],\n",
       "       [0.94285714, 0.05714286],\n",
       "       [0.3804878 , 0.6195122 ],\n",
       "       [0.3804878 , 0.6195122 ],\n",
       "       [0.3804878 , 0.6195122 ],\n",
       "       [0.3804878 , 0.6195122 ],\n",
       "       [0.3804878 , 0.6195122 ],\n",
       "       [0.3804878 , 0.6195122 ],\n",
       "       [0.3804878 , 0.6195122 ],\n",
       "       [0.3804878 , 0.6195122 ],\n",
       "       [0.3804878 , 0.6195122 ],\n",
       "       [0.3804878 , 0.6195122 ],\n",
       "       [0.3804878 , 0.6195122 ],\n",
       "       [0.3804878 , 0.6195122 ],\n",
       "       [0.3804878 , 0.6195122 ],\n",
       "       [0.3804878 , 0.6195122 ],\n",
       "       [0.3804878 , 0.6195122 ],\n",
       "       [0.3804878 , 0.6195122 ],\n",
       "       [0.3804878 , 0.6195122 ],\n",
       "       [0.3804878 , 0.6195122 ],\n",
       "       [0.3804878 , 0.6195122 ],\n",
       "       [0.3804878 , 0.6195122 ],\n",
       "       [0.3804878 , 0.6195122 ],\n",
       "       [0.3804878 , 0.6195122 ],\n",
       "       [0.94285714, 0.05714286],\n",
       "       [0.3804878 , 0.6195122 ],\n",
       "       [0.3804878 , 0.6195122 ],\n",
       "       [0.94285714, 0.05714286],\n",
       "       [0.3804878 , 0.6195122 ],\n",
       "       [0.3804878 , 0.6195122 ],\n",
       "       [0.3804878 , 0.6195122 ],\n",
       "       [0.3804878 , 0.6195122 ],\n",
       "       [0.3804878 , 0.6195122 ],\n",
       "       [0.3804878 , 0.6195122 ],\n",
       "       [0.3804878 , 0.6195122 ],\n",
       "       [0.3804878 , 0.6195122 ],\n",
       "       [0.3804878 , 0.6195122 ],\n",
       "       [0.3804878 , 0.6195122 ],\n",
       "       [0.94285714, 0.05714286],\n",
       "       [0.3804878 , 0.6195122 ],\n",
       "       [0.3804878 , 0.6195122 ],\n",
       "       [0.3804878 , 0.6195122 ],\n",
       "       [0.3804878 , 0.6195122 ],\n",
       "       [0.94285714, 0.05714286],\n",
       "       [0.3804878 , 0.6195122 ],\n",
       "       [0.3804878 , 0.6195122 ],\n",
       "       [0.94285714, 0.05714286],\n",
       "       [0.3804878 , 0.6195122 ],\n",
       "       [0.3804878 , 0.6195122 ],\n",
       "       [0.3804878 , 0.6195122 ],\n",
       "       [0.3804878 , 0.6195122 ],\n",
       "       [0.94285714, 0.05714286],\n",
       "       [0.3804878 , 0.6195122 ],\n",
       "       [0.3804878 , 0.6195122 ],\n",
       "       [0.94285714, 0.05714286],\n",
       "       [0.3804878 , 0.6195122 ],\n",
       "       [0.3804878 , 0.6195122 ],\n",
       "       [0.3804878 , 0.6195122 ],\n",
       "       [0.3804878 , 0.6195122 ],\n",
       "       [0.3804878 , 0.6195122 ],\n",
       "       [0.3804878 , 0.6195122 ],\n",
       "       [0.3804878 , 0.6195122 ],\n",
       "       [0.3804878 , 0.6195122 ],\n",
       "       [0.94285714, 0.05714286],\n",
       "       [0.3804878 , 0.6195122 ],\n",
       "       [0.94285714, 0.05714286],\n",
       "       [0.3804878 , 0.6195122 ],\n",
       "       [0.3804878 , 0.6195122 ],\n",
       "       [0.3804878 , 0.6195122 ],\n",
       "       [0.3804878 , 0.6195122 ],\n",
       "       [0.94285714, 0.05714286],\n",
       "       [0.3804878 , 0.6195122 ],\n",
       "       [0.3804878 , 0.6195122 ],\n",
       "       [0.3804878 , 0.6195122 ],\n",
       "       [0.94285714, 0.05714286],\n",
       "       [0.94285714, 0.05714286],\n",
       "       [0.3804878 , 0.6195122 ],\n",
       "       [0.3804878 , 0.6195122 ],\n",
       "       [0.3804878 , 0.6195122 ],\n",
       "       [0.3804878 , 0.6195122 ],\n",
       "       [0.3804878 , 0.6195122 ],\n",
       "       [0.3804878 , 0.6195122 ],\n",
       "       [0.3804878 , 0.6195122 ]])"
      ]
     },
     "execution_count": 17,
     "metadata": {},
     "output_type": "execute_result"
    }
   ],
   "source": [
    "clf.predict_proba(X_test)"
   ]
  },
  {
   "cell_type": "code",
   "execution_count": 19,
   "metadata": {},
   "outputs": [
    {
     "data": {
      "text/plain": [
       "(80316, 2)"
      ]
     },
     "execution_count": 19,
     "metadata": {},
     "output_type": "execute_result"
    }
   ],
   "source": [
    "np.c_[ xx.ravel() , yy.ravel()].shape"
   ]
  },
  {
   "cell_type": "markdown",
   "metadata": {},
   "source": [
    "## Part 1"
   ]
  },
  {
   "cell_type": "code",
   "execution_count": 9,
   "metadata": {},
   "outputs": [],
   "source": [
    "# python\n",
    "import numpy as np\n",
    "import matplotlib . pyplot as plt\n",
    "from matplotlib . colors import ListedColormap\n",
    "from sklearn . model_selection import train_test_split\n",
    "from sklearn . preprocessing import StandardScaler\n",
    "from sklearn . datasets import make_circles\n",
    "# create dataset\n",
    "X , y = make_circles ( n_samples =400 , noise =0.2 , factor =0.5 ,\n",
    "random_state =0)\n",
    "X = StandardScaler (). fit_transform ( X )\n",
    "X_train , X_test , y_train , y_test = train_test_split (X , y ,\n",
    "test_size =.4 , random_state =42)"
   ]
  },
  {
   "cell_type": "markdown",
   "metadata": {},
   "source": [
    "### Part 1A"
   ]
  },
  {
   "cell_type": "code",
   "execution_count": 20,
   "metadata": {},
   "outputs": [
    {
     "name": "stderr",
     "output_type": "stream",
     "text": [
      "/Users/juanvila1/opt/anaconda3/lib/python3.7/site-packages/ipykernel_launcher.py:18: UserWarning: No contour levels were found within the data range.\n"
     ]
    },
    {
     "data": {
      "text/plain": [
       "<matplotlib.collections.PathCollection at 0x1a198b5510>"
      ]
     },
     "execution_count": 20,
     "metadata": {},
     "output_type": "execute_result"
    },
    {
     "data": {
      "image/png": "[encoded data removed]",
      "text/plain": [
       "<Figure size 432x288 with 1 Axes>"
      ]
     },
     "metadata": {
      "needs_background": "light"
     },
     "output_type": "display_data"
    }
   ],
   "source": [
    "from sklearn . tree import DecisionTreeClassifier\n",
    "\n",
    "clf = DecisionTreeClassifier(max_depth=1)\n",
    "clf=clf.fit(X_train,y_train)\n",
    "# plotting\n",
    "x_min , x_max = X [: , 0]. min () - .5 , X [: , 0]. max () + .5\n",
    "y_min , y_max = X [: , 1]. min () - .5 , X [: , 1]. max () + .5\n",
    "h = .02\n",
    "xx , yy = np . meshgrid ( np . arange ( x_min , x_max , h ) ,\n",
    "np . arange ( y_min , y_max , h ))\n",
    "Z = clf . predict_proba( np.c_[ xx.ravel() , yy.ravel()])[: , 1]\n",
    "Z = Z . reshape ( xx . shape )\n",
    "plt . figure ()\n",
    "plt . title (\" Stump \", fontsize =\"small\")\n",
    "cm = plt . cm . RdBu\n",
    "cm_bright = ListedColormap ([ \"#FF0000\", \"#0000FF\"])\n",
    "plt . contourf ( xx , yy , Z , cmap = cm , alpha =.8)\n",
    "plt . contour ( xx , yy , np . round ( Z ) , 0)\n",
    "plt . scatter ( X_train [: , 0] , X_train [: , 1] , marker ='o',\n",
    "c = y_train , cmap = cm_bright , edgecolors ='k')\n",
    "plt . scatter ( X_test [: , 0] , X_test [: , 1] , marker ='o', c = y_test ,\n",
    "cmap = cm_bright , alpha =0.6 , edgecolors ='k')"
   ]
  },
  {
   "cell_type": "markdown",
   "metadata": {},
   "source": [
    "### Part 1B"
   ]
  },
  {
   "cell_type": "code",
   "execution_count": 28,
   "metadata": {},
   "outputs": [
    {
     "ename": "IndentationError",
     "evalue": "expected an indented block (<ipython-input-28-41a62b88a3ce>, line 23)",
     "output_type": "error",
     "traceback": [
      "\u001b[0;36m  File \u001b[0;32m\"<ipython-input-28-41a62b88a3ce>\"\u001b[0;36m, line \u001b[0;32m23\u001b[0m\n\u001b[0;31m    def score( self , X_test , y_test ):\u001b[0m\n\u001b[0m      ^\u001b[0m\n\u001b[0;31mIndentationError\u001b[0m\u001b[0;31m:\u001b[0m expected an indented block\n"
     ]
    }
   ],
   "source": [
    "import copy\n",
    "from sklearn.utils import resample\n",
    "class Bagging ():\n",
    "    def __init__ ( self , base_classifier , n_bootstrap , portion ):\n",
    "        self . base_classifier = base_classifier\n",
    "        self . n_bootstrap = n_bootstrap\n",
    "        self . portion = portion\n",
    "        self . base_classifier_list = []\n",
    "    def fit ( self , X_train , y_train ):\n",
    "        n_s =len(X_train)*portion\n",
    "        for i in range ( self . n_bootstrap ):\n",
    "            clf = copy . deepcopy ( self . base_classifier )\n",
    "            X_s, y_s = resample(X_train, y_train, random_state=0,n_samples = n_s)\n",
    "            clf.fit(X_s, y_s)\n",
    "            #\n",
    "            self . base_classifier_list . append ( clf )\n",
    "\n",
    "    def predict_proba ( self , X_test ):\n",
    "        \n",
    "        # RETURN AVERAGED PREDICTED PROBABILITY FOR CLASS 1\n",
    "        # (THE SECOND CASE ON SLIDE 4 OF LECTURE 11)\n",
    "    \n",
    "    \n",
    "    def score( self , X_test , y_test ):\n",
    "        y_pred = self.predict_proba( X_test )\n",
    "        acc = sum ( np.round( y_pred ) == y_test ) / len( y_test )\n",
    "        return acc\n",
    "\n",
    "    \n",
    "    \n",
    "clf = Bagging ( DecisionTreeClassifier ( max_depth =1) ,n_bootstrap =200 , portion =0.8)\n",
    "clf.fit( X_train , y_train )\n",
    "    \n",
    "    \n",
    "    \n",
    "    \n",
    "    \n",
    "    \n",
    "    # PLOT FIGURE HERE (USE SIMILAR CODES AS ABOVE )\n",
    "    #"
   ]
  },
  {
   "cell_type": "code",
   "execution_count": null,
   "metadata": {},
   "outputs": [],
   "source": []
  },
  {
   "cell_type": "code",
   "execution_count": 29,
   "metadata": {},
   "outputs": [
    {
     "ename": "IndentationError",
     "evalue": "expected an indented block (<ipython-input-29-1d81898248dc>, line 14)",
     "output_type": "error",
     "traceback": [
      "\u001b[0;36m  File \u001b[0;32m\"<ipython-input-29-1d81898248dc>\"\u001b[0;36m, line \u001b[0;32m14\u001b[0m\n\u001b[0;31m    def score( self , X_test , y_test ):\u001b[0m\n\u001b[0m      ^\u001b[0m\n\u001b[0;31mIndentationError\u001b[0m\u001b[0;31m:\u001b[0m expected an indented block\n"
     ]
    }
   ],
   "source": [
    "class Boosting ():\n",
    "    def __init__ ( self , base_classifier , n_iterations ):\n",
    "        self . base_classifier = base_classifier\n",
    "        self . n_iterations = n_iterations\n",
    "        # ADD CODES HERE\n",
    "        #\n",
    "    def fit ( self , X_train , y_train ):\n",
    "        y_train = 2 * y_train - 1\n",
    "        # ADD CODES HERE\n",
    "        #\n",
    "    def predict_label ( self , X_test ):\n",
    "        # RETURN A NUMBER BETWEEN -1 AND 1\n",
    "        #\n",
    "    def score( self , X_test , y_test ):\n",
    "        y_test = 2 * y_test - 1\n",
    "        y_pred = self . predict_label ( X_test )\n",
    "        acc = sum ( np . sign ( y_pred ) == y_test ) / len( y_test )\n",
    "        return acc\n",
    "\n",
    "clf = Boosting ( DecisionTreeClassifier ( max_depth =1) ,\n",
    "n_iterations =200)\n",
    "clf . fit ( X_train , y_train )\n",
    "# PLOT FIGURE HERE\n",
    "#"
   ]
  },
  {
   "cell_type": "code",
   "execution_count": null,
   "metadata": {},
   "outputs": [],
   "source": []
  }
 ],
 "metadata": {
  "kernelspec": {
   "display_name": "Python 3",
   "language": "python",
   "name": "python3"
  },
  "language_info": {
   "codemirror_mode": {
    "name": "ipython",
    "version": 3
   },
   "file_extension": ".py",
   "mimetype": "text/x-python",
   "name": "python",
   "nbconvert_exporter": "python",
   "pygments_lexer": "ipython3",
   "version": "3.7.4"
  }
 },
 "nbformat": 4,
 "nbformat_minor": 2
}
