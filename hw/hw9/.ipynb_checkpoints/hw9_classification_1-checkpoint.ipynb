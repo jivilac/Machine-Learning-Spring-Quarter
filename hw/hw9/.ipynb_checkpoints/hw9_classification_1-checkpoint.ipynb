{
 "cells": [
  {
   "cell_type": "code",
   "execution_count": 8,
   "metadata": {},
   "outputs": [],
   "source": [
    "%matplotlib inline\n",
    "\n",
    "# General math and plotting modules.\n",
    "import numpy as np\n",
    "import matplotlib.pyplot as plt\n",
    "from matplotlib.colors import ListedColormap\n",
    "\n",
    "import time\n",
    "\n",
    "# basic sklearn library \n",
    "from sklearn.model_selection import train_test_split\n",
    "from sklearn.preprocessing import StandardScaler\n",
    "from sklearn.datasets import make_classification\n",
    "\n",
    "# You may use existing machine learning libraries\n",
    "\n",
    "#split dataset into test set, train set and unlabel pool \n",
    "def split(X, y, train_size, test_size): \n",
    "    X_train, X_pool, y_train, y_pool = train_test_split( \n",
    "        X, y, train_size = train_size, random_state=42) \n",
    "    unlabel, X_test, label, y_test = train_test_split( \n",
    "        X_pool, y_pool, test_size = test_size, random_state=42) \n",
    "    return X_train, y_train, X_test, y_test, unlabel, label \n",
    "\n",
    "def create_dataset():\n",
    "    X, y = make_classification(n_samples=1250,\n",
    "                               n_features=2, \n",
    "                               n_redundant=0, \n",
    "                               n_informative=2,\n",
    "                               random_state=1, \n",
    "                               n_clusters_per_class=1)\n",
    "\n",
    "    rng = np.random.RandomState(2)\n",
    "    X += 3*rng.uniform(size=X.shape)\n",
    "    linearly_separable = (X, y)\n",
    "\n",
    "    X = StandardScaler().fit_transform(X)\n",
    "    \n",
    "    return X,y\n",
    "\n",
    "X,y = create_dataset()\n",
    "\n",
    "num_samples = X.shape[0]\n",
    "incremental_train_size = 100\n",
    "init_train_ratio = 0.04\n",
    "test_ratio = 0.20/(1-init_train_ratio)\n",
    "\n",
    "X_INIT, Y_INIT, X_TEST, Y_TEST, X_UNLABELED, Y_UNLABELED = split( \n",
    "            X,y, init_train_ratio, test_ratio) \n",
    "\n",
    "\n",
    "# Compare performance of different classifiers on the above dataset.\n",
    "# add your code here \n",
    "\n"
   ]
  },
  {
   "cell_type": "code",
   "execution_count": null,
   "metadata": {},
   "outputs": [],
   "source": []
  },
  {
   "cell_type": "code",
   "execution_count": null,
   "metadata": {},
   "outputs": [],
   "source": []
  }
 ],
 "metadata": {
  "kernelspec": {
   "display_name": "Python 3",
   "language": "python",
   "name": "python3"
  },
  "language_info": {
   "codemirror_mode": {
    "name": "ipython",
    "version": 3
   },
   "file_extension": ".py",
   "mimetype": "text/x-python",
   "name": "python",
   "nbconvert_exporter": "python",
   "pygments_lexer": "ipython3",
   "version": "3.7.4"
  }
 },
 "nbformat": 4,
 "nbformat_minor": 2
}
