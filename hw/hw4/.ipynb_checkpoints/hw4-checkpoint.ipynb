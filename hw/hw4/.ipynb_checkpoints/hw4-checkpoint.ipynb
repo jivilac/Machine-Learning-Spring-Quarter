{
 "cells": [
  {
   "cell_type": "markdown",
   "metadata": {},
   "source": [
    "# HW 4:\n",
    "\n",
    "Juan Vila\n",
    "\n",
    "## Question 1:"
   ]
  },
  {
   "cell_type": "code",
   "execution_count": 1,
   "metadata": {},
   "outputs": [],
   "source": [
    "import numpy as np\n",
    "import matplotlib . pyplot as plt\n",
    "from sklearn . metrics import mean_squared_error\n",
    "def data_generator ( n_samples ):\n",
    "    x = np . random . uniform ( -10 , 10 , n_samples )\n",
    "    y = np . cos (0.5 + np . exp ( - x )) + 1/(1 + np . exp ( - x ))\n",
    "    noise = np . random . normal (0 , 0.01 , n_samples )\n",
    "    y += noise\n",
    "    return x , y\n",
    "complete_X , complete_Y = data_generator (5000)\n",
    "train_X , train_Y = complete_X [:100] , complete_Y [:100]\n",
    "large_X , large_Y = complete_X [100:] , complete_Y [100:]\n",
    "loss_func = mean_squared_error"
   ]
  },
  {
   "cell_type": "markdown",
   "metadata": {},
   "source": [
    "### Part A"
   ]
  },
  {
   "cell_type": "code",
   "execution_count": 29,
   "metadata": {},
   "outputs": [],
   "source": [
    "def beta_est(Y,x,cons=True):\n",
    "    if cons:\n",
    "        X = np.column_stack((x,np.ones([len(x),1])))\n",
    "    else:\n",
    "        X=x.copy()\n",
    "    return np.dot(np.linalg.inv(np.dot(np.transpose(X),X)),\\\n",
    "                  np.dot(np.transpose(X),Y))\n",
    "\n",
    "def polynomial(x,d):\n",
    "    rv = x.copy()\n",
    "    if d>1:\n",
    "        for i in range(2,d+1):\n",
    "           rv =  np.column_stack((rv,x ** i))\n",
    "    else:\n",
    "        return x\n",
    "    \n",
    "    return rv\n",
    "\n",
    "def proyection(Y,x, cons=True):\n",
    "    if cons:\n",
    "        X = np.column_stack((x,np.ones([len(x),1])))\n",
    "    else:\n",
    "        X=x.copy()\n",
    "    y_hat = np.dot(X,beta_est(Y,x,cons))\n",
    "    return y_hat\n",
    "\n",
    "\n",
    "\n",
    "def error_poly(n_poly, X, y):\n",
    "    errors = []\n",
    "    for i in range(n_poly):  \n",
    "        if i == 0:\n",
    "            x2 = np.ones([len(X),1])\n",
    "        else:   \n",
    "            x2 = np.column_stack((np.ones([len(X),1]),polynomial(X,i)))\n",
    "        coef = ((np.linalg.inv(np.transpose(x2)@x2)@np.transpose(x2)@y))\n",
    "        errors.append(((x2@coef- y)**2).sum()/len(x2))\n",
    "    return errors\n",
    "\n",
    "\n",
    "\n",
    "def error_poly_cross_val(n_poly, X, y,Xl,yl):\n",
    "    errors = []\n",
    "    for i in range(n_poly):  \n",
    "        if i == 0:\n",
    "            x2 = np.ones([len(X),1])\n",
    "            x2l = np.ones([len(Xl),1])\n",
    "        else:   \n",
    "            x2 = np.column_stack((np.ones([len(X),1]),polynomial(X,i)))\n",
    "            x2l = np.column_stack((np.ones([len(Xl),1]),polynomial(Xl,i)))\n",
    "        coef = ((np.linalg.inv(np.transpose(x2)@x2)@np.transpose(x2)@y))\n",
    "        errors.append(((x2l@coef- yl)**2).sum()/len(x2l))\n",
    "    return errors\n",
    "\n"
   ]
  },
  {
   "cell_type": "code",
   "execution_count": 3,
   "metadata": {},
   "outputs": [],
   "source": [
    "'''\n",
    "error_sq = []\n",
    "for i in range(31):  \n",
    "    if i == 0:\n",
    "        x2 = np.ones([len(train_X),1])\n",
    "    else:   \n",
    "        x2 = np.column_stack((np.ones([len(train_X),1]),polynomial(train_X,i)))\n",
    "    coef = ((np.linalg.inv(np.transpose(x2)@x2)@np.transpose(x2)@train_Y))\n",
    "    error_sq.append(((x2@coef- train_Y)**2).sum()/len(x2))\n",
    "'''\n",
    "error_sq =error_poly(31,train_X, train_Y)\n"
   ]
  },
  {
   "cell_type": "code",
   "execution_count": 4,
   "metadata": {},
   "outputs": [
    {
     "name": "stdout",
     "output_type": "stream",
     "text": [
      "Mininmal Square Error: 0.20932454287986946\n"
     ]
    }
   ],
   "source": [
    "print('Mininmal Square Error:',(np.array(error_sq)).min())"
   ]
  },
  {
   "cell_type": "code",
   "execution_count": 5,
   "metadata": {},
   "outputs": [
    {
     "name": "stdout",
     "output_type": "stream",
     "text": [
      "Degree of polynomail that minimize risk 20\n"
     ]
    }
   ],
   "source": [
    "print('Degree of polynomail that minimize risk',np.argmin(np.array(error_sq)))"
   ]
  },
  {
   "cell_type": "markdown",
   "metadata": {},
   "source": [
    "### Part B"
   ]
  },
  {
   "cell_type": "code",
   "execution_count": 6,
   "metadata": {},
   "outputs": [
    {
     "data": {
      "text/plain": [
       "[<matplotlib.lines.Line2D at 0x1020003790>]"
      ]
     },
     "execution_count": 6,
     "metadata": {},
     "output_type": "execute_result"
    },
    {
     "data": {
      "image/png": "[encoded data removed]",
      "text/plain": [
       "<Figure size 432x288 with 1 Axes>"
      ]
     },
     "metadata": {
      "needs_background": "light"
     },
     "output_type": "display_data"
    }
   ],
   "source": [
    "import matplotlib.pyplot as plt\n",
    "plt.plot(error_sq,color='r', label='error square')"
   ]
  },
  {
   "cell_type": "markdown",
   "metadata": {},
   "source": [
    "### Part C"
   ]
  },
  {
   "cell_type": "markdown",
   "metadata": {},
   "source": [
    "### $R^*$"
   ]
  },
  {
   "cell_type": "markdown",
   "metadata": {},
   "source": [
    "Since we know the true process behind $y=f(x) + \\epsilon$, and we know that $\\epsilon$ ~ $N(0,0.01)$ we can argue that $R^*$ on average is the variance of $\\epsilon$ . Since the MSE of would be: \n",
    "$$MSE = \\frac{1}{n}\\sum_{i=1}^{n}(y-f(x))^2$$\n",
    "$$MSE = \\frac{1}{n}\\sum_{i=1}^{n}(f(x) + \\epsilon-f(x))^2$$\n",
    "$$MSE = \\frac{1}{n}\\sum_{i=1}^{n}(\\epsilon)^2$$\n",
    "$$MSE = \\sigma_{\\epsilon}$$\n",
    "\n",
    "We present the calculation below"
   ]
  },
  {
   "cell_type": "code",
   "execution_count": 35,
   "metadata": {},
   "outputs": [
    {
     "name": "stdout",
     "output_type": "stream",
     "text": [
      "R^* is 0.00010019491220344034\n"
     ]
    }
   ],
   "source": [
    "y_non_noice_train =train_Y-np . random . normal (0 , 0.01 , 100 )\n",
    "y_non_noice_large =large_Y-np . random . normal (0 , 0.01 , 4900 )\n",
    "r_star= ((large_Y-y_non_noice_large)**2).mean()\n",
    "print(\"R^* is\",r_star)"
   ]
  },
  {
   "cell_type": "code",
   "execution_count": 39,
   "metadata": {},
   "outputs": [],
   "source": [
    "error_sq_cv =error_poly_cross_val(25,train_X, train_Y,large_X,large_Y)"
   ]
  },
  {
   "cell_type": "code",
   "execution_count": 40,
   "metadata": {},
   "outputs": [
    {
     "data": {
      "text/plain": [
       "<matplotlib.legend.Legend at 0x1a22ef6b50>"
      ]
     },
     "execution_count": 40,
     "metadata": {},
     "output_type": "execute_result"
    },
    {
     "data": {
      "image/png": "[encoded data removed]",
      "text/plain": [
       "<Figure size 432x288 with 1 Axes>"
      ]
     },
     "metadata": {
      "needs_background": "light"
     },
     "output_type": "display_data"
    }
   ],
   "source": [
    "'''\n",
    "error_sq_large = []\n",
    "for i in range(31):  \n",
    "    if i == 0:\n",
    "        x2 = np.ones([len(large_X),1])\n",
    "    else:   \n",
    "        x2 = np.column_stack((np.ones([len(large_X),1]),polynomial(large_X,i)))\n",
    "    coef = ((np.linalg.inv(np.transpose(x2)@x2)@np.transpose(x2)@large_Y))\n",
    "    error_sq_large.append(((x2@coef- large_Y)**2).sum()/len(x2))\n",
    "    \n",
    "'''\n",
    "\n",
    "error_sq_large =error_poly(25,large_X, large_Y)\n",
    "\n",
    "aprox_error = np.array(error_sq_large) - r_star\n",
    "estimation_error = np.array(error_sq_cv) - np.array(error_sq_large)\n",
    "\n",
    "\n",
    "\n",
    "plt.plot(aprox_error ,color='b', label='Aproximation Error')\n",
    "plt.plot(estimation_error,color='r', label='Estimation error')\n",
    "plt.legend()"
   ]
  },
  {
   "cell_type": "markdown",
   "metadata": {},
   "source": [
    "## Question 2"
   ]
  },
  {
   "cell_type": "code",
   "execution_count": 10,
   "metadata": {},
   "outputs": [
    {
     "data": {
      "image/png": "[encoded data removed]",
      "text/plain": [
       "<Figure size 432x288 with 1 Axes>"
      ]
     },
     "metadata": {
      "needs_background": "light"
     },
     "output_type": "display_data"
    }
   ],
   "source": [
    "from sklearn.model_selection import train_test_split\n",
    "from sklearn . datasets import load_breast_cancer\n",
    "from sklearn.metrics import accuracy_score\n",
    "import matplotlib . pyplot as plt\n",
    "X , y = load_breast_cancer ( return_X_y = True )\n",
    "X = X [: , :2]\n",
    "plt . clf ()\n",
    "plt . scatter ( X [: , 0] , X [: , 1] , c = y )\n",
    "plt . show ()"
   ]
  },
  {
   "cell_type": "markdown",
   "metadata": {},
   "source": [
    "### Part A"
   ]
  },
  {
   "cell_type": "code",
   "execution_count": 11,
   "metadata": {},
   "outputs": [
    {
     "name": "stdout",
     "output_type": "stream",
     "text": [
      "In sample accuracy:  1.0\n",
      "In out of sample accuracy:  0.8461538461538461\n"
     ]
    }
   ],
   "source": [
    "import sklearn\n",
    "from sklearn import tree\n",
    "X_train, X_test, y_train, y_test = sklearn.model_selection.train_test_split(X, y, test_size=0.25, random_state=42)\n",
    "clf_a = tree.DecisionTreeClassifier()\n",
    "clf_a = clf_a.fit(X_train, y_train)\n",
    "y_pred_train = clf_a.predict(X_train)\n",
    "y_pred_test = clf_a.predict(X_test)\n",
    "print('In sample accuracy: ',sklearn.metrics.accuracy_score(y_train, y_pred_train))\n",
    "print('In out of sample accuracy: ',sklearn.metrics.accuracy_score(y_test, y_pred_test))"
   ]
  },
  {
   "cell_type": "markdown",
   "metadata": {},
   "source": [
    "### Part B"
   ]
  },
  {
   "cell_type": "code",
   "execution_count": 12,
   "metadata": {},
   "outputs": [
    {
     "data": {
      "text/plain": [
       "[<matplotlib.lines.Line2D at 0x1a21d61090>]"
      ]
     },
     "execution_count": 12,
     "metadata": {},
     "output_type": "execute_result"
    },
    {
     "data": {
      "image/png": "[encoded data removed]",
      "text/plain": [
       "<Figure size 432x288 with 1 Axes>"
      ]
     },
     "metadata": {
      "needs_background": "light"
     },
     "output_type": "display_data"
    }
   ],
   "source": [
    "alpha_list = [1/1000,1/100,1/10,1/2,3/4,1,2]\n",
    "acc_test = []\n",
    "acc_train = []\n",
    "for ccp in alpha_list:\n",
    "    clf = tree.DecisionTreeClassifier(ccp_alpha=ccp)\n",
    "    clf = clf.fit(X_train, y_train)\n",
    "    y_pred_train = clf.predict(X_train)\n",
    "    y_pred_test = clf.predict(X_test)\n",
    "    acc_train.append(sklearn.metrics.accuracy_score(y_train, y_pred_train))\n",
    "    acc_test.append(sklearn.metrics.accuracy_score(y_test, y_pred_test))\n",
    "plt.plot(alpha_list,acc_test,color='r', label='error square')\n"
   ]
  },
  {
   "cell_type": "markdown",
   "metadata": {},
   "source": [
    "### Part C"
   ]
  },
  {
   "cell_type": "code",
   "execution_count": 13,
   "metadata": {},
   "outputs": [],
   "source": [
    "# Python\n",
    "def plot_regions ( tree ):\n",
    "    plot_colors = ['yellow', 'purple']\n",
    "    plot_step = 0.02\n",
    "    breast_cancer = load_breast_cancer ()\n",
    "    X = breast_cancer.data\n",
    "    y = breast_cancer.target\n",
    "    plt.clf ()\n",
    "    idx = np . arange ( X . shape [0])\n",
    "    np . random . shuffle ( idx )\n",
    "    X = X [ idx ]\n",
    "    y = y [ idx ]\n",
    "    x_min , x_max = X [: , 0]. min () - 1 , X [: , 0]. max () + 1\n",
    "    y_min , y_max = X [: , 1]. min () - 1 , X [: , 1]. max () + 1\n",
    "    xx , yy = np.meshgrid ( np . arange ( x_min , x_max , plot_step ), np . arange ( y_min , y_max , plot_step ))\n",
    "    Z = tree.predict ( np.c_ [ xx.ravel() , yy.ravel()])\n",
    "    Z = Z.reshape (xx.shape )\n",
    "    cs = plt.contourf ( xx , yy , Z , cmap = plt . cm . Paired )\n",
    "    plt.xlabel( breast_cancer . feature_names [0])\n",
    "    plt.ylabel ( breast_cancer . feature_names [1])\n",
    "    plt.axis ('tight')\n",
    "    for i , color in zip( range (2) , plot_colors ):\n",
    "        idx = np . where ( y == i )\n",
    "        plt . scatter ( X [ idx , 0] , X [ idx , 1] , c = color , label = breast_cancer.target_names [ i ] ,cmap = plt.cm.Paired )"
   ]
  },
  {
   "cell_type": "code",
   "execution_count": 14,
   "metadata": {},
   "outputs": [
    {
     "data": {
      "image/png": "[encoded data removed]",
      "text/plain": [
       "<Figure size 432x288 with 1 Axes>"
      ]
     },
     "metadata": {
      "needs_background": "light"
     },
     "output_type": "display_data"
    }
   ],
   "source": [
    "plot_regions ( clf_a)"
   ]
  },
  {
   "cell_type": "code",
   "execution_count": 15,
   "metadata": {},
   "outputs": [
    {
     "data": {
      "image/png": "[encoded data removed]",
      "text/plain": [
       "<Figure size 432x288 with 1 Axes>"
      ]
     },
     "metadata": {
      "needs_background": "light"
     },
     "output_type": "display_data"
    }
   ],
   "source": [
    "\n",
    "min_alpha = alpha_list[np.argmax(acc_test)]\n",
    "\n",
    "clf_min_b = tree.DecisionTreeClassifier(ccp_alpha=min_alpha)\n",
    "clf_min_b = clf_min_b.fit(X_train, y_train)\n",
    "plot_regions(clf_min_b )"
   ]
  },
  {
   "cell_type": "markdown",
   "metadata": {},
   "source": [
    "## Question 3"
   ]
  },
  {
   "cell_type": "markdown",
   "metadata": {},
   "source": [
    "### Part A"
   ]
  },
  {
   "cell_type": "code",
   "execution_count": 16,
   "metadata": {},
   "outputs": [],
   "source": [
    "import numpy as np\n",
    "np . random . seed (0)\n",
    "N_fold = 10\n",
    "N_test = 500\n",
    "N_train = 1000\n",
    "N = N_test + N_train\n",
    "# Specify feature dimensions of X and Y\n",
    "X_dim = 20\n",
    "Y_dim = 10\n",
    "X = np.random.randn (N , X_dim )\n",
    "# Only have 10 non - zero entries in beta ,\n",
    "nnz = 10\n",
    "beta = np . zeros (( X_dim * Y_dim ))\n",
    "nnz_idx = np.random.choice( X_dim * Y_dim , nnz , replace = False )\n",
    "beta [ nnz_idx ] = np.random.randn ( nnz ) * 2\n",
    "beta = beta . reshape ( X_dim , Y_dim )\n",
    "xb = X @ beta\n",
    "Y = xb + np . random . rand (N , Y_dim )\n",
    "# Split training and testing set\n",
    "X_test = X [: N_test ]\n",
    "Y_test = Y [: N_test ]\n",
    "X_train = X [ N_test :]\n",
    "Y_train = Y [ N_test :]"
   ]
  },
  {
   "cell_type": "code",
   "execution_count": 17,
   "metadata": {},
   "outputs": [],
   "source": [
    "def lasso_prediction_insample(X_train,X_test,Y_train,Y_test,alpha_c):\n",
    "    clf = sklearn.linear_model.Lasso(alpha=alpha_c,max_iter=20000)\n",
    "    clf = clf.fit(X_train,Y_train)\n",
    "    y_hat = clf.predict(X_train)\n",
    "    from sklearn.metrics import mean_squared_error\n",
    "    ee = mean_squared_error(Y_train, y_hat)\n",
    "    return ee"
   ]
  },
  {
   "cell_type": "code",
   "execution_count": 18,
   "metadata": {},
   "outputs": [
    {
     "name": "stderr",
     "output_type": "stream",
     "text": [
      "/Users/juanvila1/opt/anaconda3/lib/python3.7/site-packages/ipykernel_launcher.py:3: UserWarning: With alpha=0, this algorithm does not converge well. You are advised to use the LinearRegression estimator\n",
      "  This is separate from the ipykernel package so we can avoid doing imports until\n",
      "/Users/juanvila1/opt/anaconda3/lib/python3.7/site-packages/sklearn/linear_model/_coordinate_descent.py:476: UserWarning: Coordinate descent with no regularization may lead to unexpected results and is discouraged.\n",
      "  positive)\n",
      "/Users/juanvila1/opt/anaconda3/lib/python3.7/site-packages/sklearn/linear_model/_coordinate_descent.py:476: ConvergenceWarning: Objective did not converge. You might want to increase the number of iterations. Duality gap: 40.24020434660464, tolerance: 0.008380765320095556\n",
      "  positive)\n",
      "/Users/juanvila1/opt/anaconda3/lib/python3.7/site-packages/sklearn/linear_model/_coordinate_descent.py:476: ConvergenceWarning: Objective did not converge. You might want to increase the number of iterations. Duality gap: 41.62204923132846, tolerance: 0.2591117588910421\n",
      "  positive)\n",
      "/Users/juanvila1/opt/anaconda3/lib/python3.7/site-packages/sklearn/linear_model/_coordinate_descent.py:476: ConvergenceWarning: Objective did not converge. You might want to increase the number of iterations. Duality gap: 38.708885909671906, tolerance: 0.43896326321194323\n",
      "  positive)\n",
      "/Users/juanvila1/opt/anaconda3/lib/python3.7/site-packages/sklearn/linear_model/_coordinate_descent.py:476: ConvergenceWarning: Objective did not converge. You might want to increase the number of iterations. Duality gap: 42.72347479098779, tolerance: 0.008694792525961344\n",
      "  positive)\n",
      "/Users/juanvila1/opt/anaconda3/lib/python3.7/site-packages/sklearn/linear_model/_coordinate_descent.py:476: ConvergenceWarning: Objective did not converge. You might want to increase the number of iterations. Duality gap: 39.58083389964084, tolerance: 0.008014154065908602\n",
      "  positive)\n",
      "/Users/juanvila1/opt/anaconda3/lib/python3.7/site-packages/sklearn/linear_model/_coordinate_descent.py:476: ConvergenceWarning: Objective did not converge. You might want to increase the number of iterations. Duality gap: 41.74101662085785, tolerance: 0.1289496209792154\n",
      "  positive)\n",
      "/Users/juanvila1/opt/anaconda3/lib/python3.7/site-packages/sklearn/linear_model/_coordinate_descent.py:476: ConvergenceWarning: Objective did not converge. You might want to increase the number of iterations. Duality gap: 40.69316021690358, tolerance: 3.4516748051157884\n",
      "  positive)\n",
      "/Users/juanvila1/opt/anaconda3/lib/python3.7/site-packages/sklearn/linear_model/_coordinate_descent.py:476: ConvergenceWarning: Objective did not converge. You might want to increase the number of iterations. Duality gap: 38.720254448302484, tolerance: 0.9073299438869279\n",
      "  positive)\n",
      "/Users/juanvila1/opt/anaconda3/lib/python3.7/site-packages/sklearn/linear_model/_coordinate_descent.py:476: ConvergenceWarning: Objective did not converge. You might want to increase the number of iterations. Duality gap: 41.78654753199599, tolerance: 0.008575671951391257\n",
      "  positive)\n",
      "/Users/juanvila1/opt/anaconda3/lib/python3.7/site-packages/sklearn/linear_model/_coordinate_descent.py:476: ConvergenceWarning: Objective did not converge. You might want to increase the number of iterations. Duality gap: 40.54864909267924, tolerance: 0.008247006912155852\n",
      "  positive)\n"
     ]
    },
    {
     "data": {
      "text/plain": [
       "[<matplotlib.lines.Line2D at 0x1a249fd150>]"
      ]
     },
     "execution_count": 18,
     "metadata": {},
     "output_type": "execute_result"
    },
    {
     "data": {
      "image/png": "[encoded data removed]",
      "text/plain": [
       "<Figure size 432x288 with 1 Axes>"
      ]
     },
     "metadata": {
      "needs_background": "light"
     },
     "output_type": "display_data"
    }
   ],
   "source": [
    "rv = []\n",
    "lambda_list = []\n",
    "for alpha in range(0,41):\n",
    "    ee_i = lasso_prediction_insample(X_train,X_test,Y_train,Y_test,alpha/1000)\n",
    "    rv.append(ee_i)\n",
    "    lambda_list.append(alpha/1000)\n",
    "plt.plot(lambda_list,rv,color='r', label='error square')"
   ]
  },
  {
   "cell_type": "markdown",
   "metadata": {},
   "source": [
    "### Part B"
   ]
  },
  {
   "cell_type": "code",
   "execution_count": 19,
   "metadata": {},
   "outputs": [],
   "source": [
    "\n",
    "import random\n",
    "import numpy as np\n",
    "#data=np.stack(Y_test, X_test,axis=0)\n",
    "# Split a dataset into k folds\n",
    "def cross_validation_split(dataset_X, dataset_Y, folds=3):\n",
    "    dataset_split_X = list()\n",
    "    dataset_split_Y = list()\n",
    "    dataset_copy_X = list(dataset_X)\n",
    "    dataset_copy_Y = list(dataset_Y)\n",
    "    fold_size = int(len(dataset_X) / folds)\n",
    "    for i in range(folds):\n",
    "        fold_X = list()\n",
    "        fold_Y = list()\n",
    "        while len(fold_X) < fold_size:\n",
    "            index = random.randrange(len(dataset_copy_X))\n",
    "            fold_X.append(dataset_copy_X.pop(index))\n",
    "            fold_Y.append(dataset_copy_Y.pop(index))\n",
    "        dataset_split_X.append(fold_X)\n",
    "        dataset_split_Y.append(fold_Y)\n",
    "    return dataset_split_X, dataset_split_Y "
   ]
  },
  {
   "cell_type": "code",
   "execution_count": 20,
   "metadata": {},
   "outputs": [],
   "source": [
    "X_cv,Y_cv = cross_validation_split(X_train,Y_train,10)"
   ]
  },
  {
   "cell_type": "code",
   "execution_count": 21,
   "metadata": {},
   "outputs": [
    {
     "data": {
      "text/plain": [
       "(1000, 20)"
      ]
     },
     "execution_count": 21,
     "metadata": {},
     "output_type": "execute_result"
    }
   ],
   "source": [
    "(np.concatenate(X_cv, axis=0 )).shape"
   ]
  },
  {
   "cell_type": "code",
   "execution_count": 22,
   "metadata": {},
   "outputs": [
    {
     "name": "stderr",
     "output_type": "stream",
     "text": [
      "/Users/juanvila1/opt/anaconda3/lib/python3.7/site-packages/ipykernel_launcher.py:3: UserWarning: With alpha=0, this algorithm does not converge well. You are advised to use the LinearRegression estimator\n",
      "  This is separate from the ipykernel package so we can avoid doing imports until\n",
      "/Users/juanvila1/opt/anaconda3/lib/python3.7/site-packages/sklearn/linear_model/_coordinate_descent.py:476: UserWarning: Coordinate descent with no regularization may lead to unexpected results and is discouraged.\n",
      "  positive)\n",
      "/Users/juanvila1/opt/anaconda3/lib/python3.7/site-packages/sklearn/linear_model/_coordinate_descent.py:476: ConvergenceWarning: Objective did not converge. You might want to increase the number of iterations. Duality gap: 37.00552786292401, tolerance: 0.007691568390734261\n",
      "  positive)\n",
      "/Users/juanvila1/opt/anaconda3/lib/python3.7/site-packages/sklearn/linear_model/_coordinate_descent.py:476: ConvergenceWarning: Objective did not converge. You might want to increase the number of iterations. Duality gap: 36.97628993002452, tolerance: 0.23350400975588287\n",
      "  positive)\n",
      "/Users/juanvila1/opt/anaconda3/lib/python3.7/site-packages/sklearn/linear_model/_coordinate_descent.py:476: ConvergenceWarning: Objective did not converge. You might want to increase the number of iterations. Duality gap: 34.098423248932114, tolerance: 0.39422861641098605\n",
      "  positive)\n",
      "/Users/juanvila1/opt/anaconda3/lib/python3.7/site-packages/sklearn/linear_model/_coordinate_descent.py:476: ConvergenceWarning: Objective did not converge. You might want to increase the number of iterations. Duality gap: 38.44800564790633, tolerance: 0.007838679379286988\n",
      "  positive)\n",
      "/Users/juanvila1/opt/anaconda3/lib/python3.7/site-packages/sklearn/linear_model/_coordinate_descent.py:476: ConvergenceWarning: Objective did not converge. You might want to increase the number of iterations. Duality gap: 35.493764846054646, tolerance: 0.007216633908776021\n",
      "  positive)\n",
      "/Users/juanvila1/opt/anaconda3/lib/python3.7/site-packages/sklearn/linear_model/_coordinate_descent.py:476: ConvergenceWarning: Objective did not converge. You might want to increase the number of iterations. Duality gap: 37.84283587781075, tolerance: 0.11731478855401388\n",
      "  positive)\n",
      "/Users/juanvila1/opt/anaconda3/lib/python3.7/site-packages/sklearn/linear_model/_coordinate_descent.py:476: ConvergenceWarning: Objective did not converge. You might want to increase the number of iterations. Duality gap: 35.85871975543833, tolerance: 3.1595622426037804\n",
      "  positive)\n",
      "/Users/juanvila1/opt/anaconda3/lib/python3.7/site-packages/sklearn/linear_model/_coordinate_descent.py:476: ConvergenceWarning: Objective did not converge. You might want to increase the number of iterations. Duality gap: 34.983412656661585, tolerance: 0.8263697381290258\n",
      "  positive)\n",
      "/Users/juanvila1/opt/anaconda3/lib/python3.7/site-packages/sklearn/linear_model/_coordinate_descent.py:476: ConvergenceWarning: Objective did not converge. You might want to increase the number of iterations. Duality gap: 37.592283504550295, tolerance: 0.007737143481960786\n",
      "  positive)\n",
      "/Users/juanvila1/opt/anaconda3/lib/python3.7/site-packages/sklearn/linear_model/_coordinate_descent.py:476: ConvergenceWarning: Objective did not converge. You might want to increase the number of iterations. Duality gap: 36.668271342795, tolerance: 0.007460755431394555\n",
      "  positive)\n",
      "/Users/juanvila1/opt/anaconda3/lib/python3.7/site-packages/ipykernel_launcher.py:3: UserWarning: With alpha=0, this algorithm does not converge well. You are advised to use the LinearRegression estimator\n",
      "  This is separate from the ipykernel package so we can avoid doing imports until\n",
      "/Users/juanvila1/opt/anaconda3/lib/python3.7/site-packages/sklearn/linear_model/_coordinate_descent.py:476: UserWarning: Coordinate descent with no regularization may lead to unexpected results and is discouraged.\n",
      "  positive)\n",
      "/Users/juanvila1/opt/anaconda3/lib/python3.7/site-packages/sklearn/linear_model/_coordinate_descent.py:476: ConvergenceWarning: Objective did not converge. You might want to increase the number of iterations. Duality gap: 35.755176961507814, tolerance: 0.007466530951127721\n",
      "  positive)\n",
      "/Users/juanvila1/opt/anaconda3/lib/python3.7/site-packages/sklearn/linear_model/_coordinate_descent.py:476: ConvergenceWarning: Objective did not converge. You might want to increase the number of iterations. Duality gap: 37.02409563079292, tolerance: 0.23515272380668586\n",
      "  positive)\n",
      "/Users/juanvila1/opt/anaconda3/lib/python3.7/site-packages/sklearn/linear_model/_coordinate_descent.py:476: ConvergenceWarning: Objective did not converge. You might want to increase the number of iterations. Duality gap: 35.22407063292175, tolerance: 0.3974545956798984\n",
      "  positive)\n",
      "/Users/juanvila1/opt/anaconda3/lib/python3.7/site-packages/sklearn/linear_model/_coordinate_descent.py:476: ConvergenceWarning: Objective did not converge. You might want to increase the number of iterations. Duality gap: 38.597419741779674, tolerance: 0.007890593484112012\n",
      "  positive)\n",
      "/Users/juanvila1/opt/anaconda3/lib/python3.7/site-packages/sklearn/linear_model/_coordinate_descent.py:476: ConvergenceWarning: Objective did not converge. You might want to increase the number of iterations. Duality gap: 35.072372533206476, tolerance: 0.007139543979770039\n",
      "  positive)\n",
      "/Users/juanvila1/opt/anaconda3/lib/python3.7/site-packages/sklearn/linear_model/_coordinate_descent.py:476: ConvergenceWarning: Objective did not converge. You might want to increase the number of iterations. Duality gap: 37.74602018893606, tolerance: 0.11738709974257837\n",
      "  positive)\n",
      "/Users/juanvila1/opt/anaconda3/lib/python3.7/site-packages/sklearn/linear_model/_coordinate_descent.py:476: ConvergenceWarning: Objective did not converge. You might want to increase the number of iterations. Duality gap: 36.09928044430834, tolerance: 3.0541327845077046\n",
      "  positive)\n",
      "/Users/juanvila1/opt/anaconda3/lib/python3.7/site-packages/sklearn/linear_model/_coordinate_descent.py:476: ConvergenceWarning: Objective did not converge. You might want to increase the number of iterations. Duality gap: 34.23688673268189, tolerance: 0.8280654368628982\n",
      "  positive)\n",
      "/Users/juanvila1/opt/anaconda3/lib/python3.7/site-packages/sklearn/linear_model/_coordinate_descent.py:476: ConvergenceWarning: Objective did not converge. You might want to increase the number of iterations. Duality gap: 37.02063307515042, tolerance: 0.007625711200853187\n",
      "  positive)\n",
      "/Users/juanvila1/opt/anaconda3/lib/python3.7/site-packages/sklearn/linear_model/_coordinate_descent.py:476: ConvergenceWarning: Objective did not converge. You might want to increase the number of iterations. Duality gap: 36.10821588190929, tolerance: 0.007393595253029253\n",
      "  positive)\n",
      "/Users/juanvila1/opt/anaconda3/lib/python3.7/site-packages/ipykernel_launcher.py:3: UserWarning: With alpha=0, this algorithm does not converge well. You are advised to use the LinearRegression estimator\n",
      "  This is separate from the ipykernel package so we can avoid doing imports until\n",
      "/Users/juanvila1/opt/anaconda3/lib/python3.7/site-packages/sklearn/linear_model/_coordinate_descent.py:476: UserWarning: Coordinate descent with no regularization may lead to unexpected results and is discouraged.\n",
      "  positive)\n",
      "/Users/juanvila1/opt/anaconda3/lib/python3.7/site-packages/sklearn/linear_model/_coordinate_descent.py:476: ConvergenceWarning: Objective did not converge. You might want to increase the number of iterations. Duality gap: 35.88753284616182, tolerance: 0.007528946289171735\n",
      "  positive)\n",
      "/Users/juanvila1/opt/anaconda3/lib/python3.7/site-packages/sklearn/linear_model/_coordinate_descent.py:476: ConvergenceWarning: Objective did not converge. You might want to increase the number of iterations. Duality gap: 37.2533825554039, tolerance: 0.23799367266426416\n",
      "  positive)\n",
      "/Users/juanvila1/opt/anaconda3/lib/python3.7/site-packages/sklearn/linear_model/_coordinate_descent.py:476: ConvergenceWarning: Objective did not converge. You might want to increase the number of iterations. Duality gap: 34.61979926534848, tolerance: 0.39019347027867846\n",
      "  positive)\n",
      "/Users/juanvila1/opt/anaconda3/lib/python3.7/site-packages/sklearn/linear_model/_coordinate_descent.py:476: ConvergenceWarning: Objective did not converge. You might want to increase the number of iterations. Duality gap: 38.40260528622045, tolerance: 0.007857079614748404\n",
      "  positive)\n",
      "/Users/juanvila1/opt/anaconda3/lib/python3.7/site-packages/sklearn/linear_model/_coordinate_descent.py:476: ConvergenceWarning: Objective did not converge. You might want to increase the number of iterations. Duality gap: 35.77609077662642, tolerance: 0.0072475413946003755\n",
      "  positive)\n"
     ]
    },
    {
     "name": "stderr",
     "output_type": "stream",
     "text": [
      "/Users/juanvila1/opt/anaconda3/lib/python3.7/site-packages/sklearn/linear_model/_coordinate_descent.py:476: ConvergenceWarning: Objective did not converge. You might want to increase the number of iterations. Duality gap: 37.507666745741176, tolerance: 0.11483266738241896\n",
      "  positive)\n",
      "/Users/juanvila1/opt/anaconda3/lib/python3.7/site-packages/sklearn/linear_model/_coordinate_descent.py:476: ConvergenceWarning: Objective did not converge. You might want to increase the number of iterations. Duality gap: 36.519190591131135, tolerance: 3.0761653713819763\n",
      "  positive)\n",
      "/Users/juanvila1/opt/anaconda3/lib/python3.7/site-packages/sklearn/linear_model/_coordinate_descent.py:476: ConvergenceWarning: Objective did not converge. You might want to increase the number of iterations. Duality gap: 34.658173666585526, tolerance: 0.809579320796313\n",
      "  positive)\n",
      "/Users/juanvila1/opt/anaconda3/lib/python3.7/site-packages/sklearn/linear_model/_coordinate_descent.py:476: ConvergenceWarning: Objective did not converge. You might want to increase the number of iterations. Duality gap: 37.4927887908468, tolerance: 0.007747158377062832\n",
      "  positive)\n",
      "/Users/juanvila1/opt/anaconda3/lib/python3.7/site-packages/sklearn/linear_model/_coordinate_descent.py:476: ConvergenceWarning: Objective did not converge. You might want to increase the number of iterations. Duality gap: 36.20006967027443, tolerance: 0.0073876620116938\n",
      "  positive)\n",
      "/Users/juanvila1/opt/anaconda3/lib/python3.7/site-packages/ipykernel_launcher.py:3: UserWarning: With alpha=0, this algorithm does not converge well. You are advised to use the LinearRegression estimator\n",
      "  This is separate from the ipykernel package so we can avoid doing imports until\n",
      "/Users/juanvila1/opt/anaconda3/lib/python3.7/site-packages/sklearn/linear_model/_coordinate_descent.py:476: UserWarning: Coordinate descent with no regularization may lead to unexpected results and is discouraged.\n",
      "  positive)\n",
      "/Users/juanvila1/opt/anaconda3/lib/python3.7/site-packages/sklearn/linear_model/_coordinate_descent.py:476: ConvergenceWarning: Objective did not converge. You might want to increase the number of iterations. Duality gap: 36.367092999890374, tolerance: 0.007526169237239231\n",
      "  positive)\n",
      "/Users/juanvila1/opt/anaconda3/lib/python3.7/site-packages/sklearn/linear_model/_coordinate_descent.py:476: ConvergenceWarning: Objective did not converge. You might want to increase the number of iterations. Duality gap: 37.926732089316786, tolerance: 0.23308182095014426\n",
      "  positive)\n",
      "/Users/juanvila1/opt/anaconda3/lib/python3.7/site-packages/sklearn/linear_model/_coordinate_descent.py:476: ConvergenceWarning: Objective did not converge. You might want to increase the number of iterations. Duality gap: 34.417662937586414, tolerance: 0.38907987290094487\n",
      "  positive)\n",
      "/Users/juanvila1/opt/anaconda3/lib/python3.7/site-packages/sklearn/linear_model/_coordinate_descent.py:476: ConvergenceWarning: Objective did not converge. You might want to increase the number of iterations. Duality gap: 38.912848504063405, tolerance: 0.007933105025118101\n",
      "  positive)\n",
      "/Users/juanvila1/opt/anaconda3/lib/python3.7/site-packages/sklearn/linear_model/_coordinate_descent.py:476: ConvergenceWarning: Objective did not converge. You might want to increase the number of iterations. Duality gap: 35.62170879995278, tolerance: 0.007223740839822669\n",
      "  positive)\n",
      "/Users/juanvila1/opt/anaconda3/lib/python3.7/site-packages/sklearn/linear_model/_coordinate_descent.py:476: ConvergenceWarning: Objective did not converge. You might want to increase the number of iterations. Duality gap: 37.34605416866226, tolerance: 0.11889949419270043\n",
      "  positive)\n",
      "/Users/juanvila1/opt/anaconda3/lib/python3.7/site-packages/sklearn/linear_model/_coordinate_descent.py:476: ConvergenceWarning: Objective did not converge. You might want to increase the number of iterations. Duality gap: 35.982585332393136, tolerance: 3.120384435144558\n",
      "  positive)\n",
      "/Users/juanvila1/opt/anaconda3/lib/python3.7/site-packages/sklearn/linear_model/_coordinate_descent.py:476: ConvergenceWarning: Objective did not converge. You might want to increase the number of iterations. Duality gap: 34.830658425883996, tolerance: 0.7989570597875031\n",
      "  positive)\n",
      "/Users/juanvila1/opt/anaconda3/lib/python3.7/site-packages/sklearn/linear_model/_coordinate_descent.py:476: ConvergenceWarning: Objective did not converge. You might want to increase the number of iterations. Duality gap: 37.720260650283436, tolerance: 0.007752834858671249\n",
      "  positive)\n",
      "/Users/juanvila1/opt/anaconda3/lib/python3.7/site-packages/sklearn/linear_model/_coordinate_descent.py:476: ConvergenceWarning: Objective did not converge. You might want to increase the number of iterations. Duality gap: 36.34619491275902, tolerance: 0.0073928058739854\n",
      "  positive)\n",
      "/Users/juanvila1/opt/anaconda3/lib/python3.7/site-packages/ipykernel_launcher.py:3: UserWarning: With alpha=0, this algorithm does not converge well. You are advised to use the LinearRegression estimator\n",
      "  This is separate from the ipykernel package so we can avoid doing imports until\n",
      "/Users/juanvila1/opt/anaconda3/lib/python3.7/site-packages/sklearn/linear_model/_coordinate_descent.py:476: UserWarning: Coordinate descent with no regularization may lead to unexpected results and is discouraged.\n",
      "  positive)\n",
      "/Users/juanvila1/opt/anaconda3/lib/python3.7/site-packages/sklearn/linear_model/_coordinate_descent.py:476: ConvergenceWarning: Objective did not converge. You might want to increase the number of iterations. Duality gap: 36.181172245581806, tolerance: 0.007557465852611795\n",
      "  positive)\n",
      "/Users/juanvila1/opt/anaconda3/lib/python3.7/site-packages/sklearn/linear_model/_coordinate_descent.py:476: ConvergenceWarning: Objective did not converge. You might want to increase the number of iterations. Duality gap: 37.72173645417034, tolerance: 0.2301328768496299\n",
      "  positive)\n",
      "/Users/juanvila1/opt/anaconda3/lib/python3.7/site-packages/sklearn/linear_model/_coordinate_descent.py:476: ConvergenceWarning: Objective did not converge. You might want to increase the number of iterations. Duality gap: 34.8461524408888, tolerance: 0.39906510486705205\n",
      "  positive)\n",
      "/Users/juanvila1/opt/anaconda3/lib/python3.7/site-packages/sklearn/linear_model/_coordinate_descent.py:476: ConvergenceWarning: Objective did not converge. You might want to increase the number of iterations. Duality gap: 38.15669982823717, tolerance: 0.007760684300402741\n",
      "  positive)\n",
      "/Users/juanvila1/opt/anaconda3/lib/python3.7/site-packages/sklearn/linear_model/_coordinate_descent.py:476: ConvergenceWarning: Objective did not converge. You might want to increase the number of iterations. Duality gap: 35.19616541017524, tolerance: 0.007151483624150869\n",
      "  positive)\n",
      "/Users/juanvila1/opt/anaconda3/lib/python3.7/site-packages/sklearn/linear_model/_coordinate_descent.py:476: ConvergenceWarning: Objective did not converge. You might want to increase the number of iterations. Duality gap: 37.17249141867393, tolerance: 0.11685204296604965\n",
      "  positive)\n",
      "/Users/juanvila1/opt/anaconda3/lib/python3.7/site-packages/sklearn/linear_model/_coordinate_descent.py:476: ConvergenceWarning: Objective did not converge. You might want to increase the number of iterations. Duality gap: 36.46403859202625, tolerance: 3.132994339033911\n",
      "  positive)\n",
      "/Users/juanvila1/opt/anaconda3/lib/python3.7/site-packages/sklearn/linear_model/_coordinate_descent.py:476: ConvergenceWarning: Objective did not converge. You might want to increase the number of iterations. Duality gap: 34.8851757139556, tolerance: 0.8460982621471107\n",
      "  positive)\n",
      "/Users/juanvila1/opt/anaconda3/lib/python3.7/site-packages/sklearn/linear_model/_coordinate_descent.py:476: ConvergenceWarning: Objective did not converge. You might want to increase the number of iterations. Duality gap: 38.20937222965897, tolerance: 0.007834479240768341\n",
      "  positive)\n",
      "/Users/juanvila1/opt/anaconda3/lib/python3.7/site-packages/sklearn/linear_model/_coordinate_descent.py:476: ConvergenceWarning: Objective did not converge. You might want to increase the number of iterations. Duality gap: 36.814758575567765, tolerance: 0.0075093812295225605\n",
      "  positive)\n",
      "/Users/juanvila1/opt/anaconda3/lib/python3.7/site-packages/ipykernel_launcher.py:3: UserWarning: With alpha=0, this algorithm does not converge well. You are advised to use the LinearRegression estimator\n",
      "  This is separate from the ipykernel package so we can avoid doing imports until\n",
      "/Users/juanvila1/opt/anaconda3/lib/python3.7/site-packages/sklearn/linear_model/_coordinate_descent.py:476: UserWarning: Coordinate descent with no regularization may lead to unexpected results and is discouraged.\n",
      "  positive)\n",
      "/Users/juanvila1/opt/anaconda3/lib/python3.7/site-packages/sklearn/linear_model/_coordinate_descent.py:476: ConvergenceWarning: Objective did not converge. You might want to increase the number of iterations. Duality gap: 36.674598428032255, tolerance: 0.007672264790521368\n",
      "  positive)\n"
     ]
    },
    {
     "name": "stderr",
     "output_type": "stream",
     "text": [
      "/Users/juanvila1/opt/anaconda3/lib/python3.7/site-packages/sklearn/linear_model/_coordinate_descent.py:476: ConvergenceWarning: Objective did not converge. You might want to increase the number of iterations. Duality gap: 37.50857654419106, tolerance: 0.23052155358081805\n",
      "  positive)\n",
      "/Users/juanvila1/opt/anaconda3/lib/python3.7/site-packages/sklearn/linear_model/_coordinate_descent.py:476: ConvergenceWarning: Objective did not converge. You might want to increase the number of iterations. Duality gap: 34.91250960738625, tolerance: 0.3979311386700291\n",
      "  positive)\n",
      "/Users/juanvila1/opt/anaconda3/lib/python3.7/site-packages/sklearn/linear_model/_coordinate_descent.py:476: ConvergenceWarning: Objective did not converge. You might want to increase the number of iterations. Duality gap: 37.95956833263021, tolerance: 0.007774645349753142\n",
      "  positive)\n",
      "/Users/juanvila1/opt/anaconda3/lib/python3.7/site-packages/sklearn/linear_model/_coordinate_descent.py:476: ConvergenceWarning: Objective did not converge. You might want to increase the number of iterations. Duality gap: 35.417848959300336, tolerance: 0.007171701392556037\n",
      "  positive)\n",
      "/Users/juanvila1/opt/anaconda3/lib/python3.7/site-packages/sklearn/linear_model/_coordinate_descent.py:476: ConvergenceWarning: Objective did not converge. You might want to increase the number of iterations. Duality gap: 37.423900120916315, tolerance: 0.11413480749192063\n",
      "  positive)\n",
      "/Users/juanvila1/opt/anaconda3/lib/python3.7/site-packages/sklearn/linear_model/_coordinate_descent.py:476: ConvergenceWarning: Objective did not converge. You might want to increase the number of iterations. Duality gap: 37.066277048971095, tolerance: 3.0480357307749095\n",
      "  positive)\n",
      "/Users/juanvila1/opt/anaconda3/lib/python3.7/site-packages/sklearn/linear_model/_coordinate_descent.py:476: ConvergenceWarning: Objective did not converge. You might want to increase the number of iterations. Duality gap: 35.129107952527534, tolerance: 0.8088461405938361\n",
      "  positive)\n",
      "/Users/juanvila1/opt/anaconda3/lib/python3.7/site-packages/sklearn/linear_model/_coordinate_descent.py:476: ConvergenceWarning: Objective did not converge. You might want to increase the number of iterations. Duality gap: 37.5326500688129, tolerance: 0.007714999362827024\n",
      "  positive)\n",
      "/Users/juanvila1/opt/anaconda3/lib/python3.7/site-packages/sklearn/linear_model/_coordinate_descent.py:476: ConvergenceWarning: Objective did not converge. You might want to increase the number of iterations. Duality gap: 36.25930898102598, tolerance: 0.007365755115418037\n",
      "  positive)\n",
      "/Users/juanvila1/opt/anaconda3/lib/python3.7/site-packages/ipykernel_launcher.py:3: UserWarning: With alpha=0, this algorithm does not converge well. You are advised to use the LinearRegression estimator\n",
      "  This is separate from the ipykernel package so we can avoid doing imports until\n",
      "/Users/juanvila1/opt/anaconda3/lib/python3.7/site-packages/sklearn/linear_model/_coordinate_descent.py:476: UserWarning: Coordinate descent with no regularization may lead to unexpected results and is discouraged.\n",
      "  positive)\n",
      "/Users/juanvila1/opt/anaconda3/lib/python3.7/site-packages/sklearn/linear_model/_coordinate_descent.py:476: ConvergenceWarning: Objective did not converge. You might want to increase the number of iterations. Duality gap: 35.69238724252165, tolerance: 0.007451816583268325\n",
      "  positive)\n",
      "/Users/juanvila1/opt/anaconda3/lib/python3.7/site-packages/sklearn/linear_model/_coordinate_descent.py:476: ConvergenceWarning: Objective did not converge. You might want to increase the number of iterations. Duality gap: 37.53776640552387, tolerance: 0.23130634632388844\n",
      "  positive)\n",
      "/Users/juanvila1/opt/anaconda3/lib/python3.7/site-packages/sklearn/linear_model/_coordinate_descent.py:476: ConvergenceWarning: Objective did not converge. You might want to increase the number of iterations. Duality gap: 34.87869034731011, tolerance: 0.3956834071861648\n",
      "  positive)\n",
      "/Users/juanvila1/opt/anaconda3/lib/python3.7/site-packages/sklearn/linear_model/_coordinate_descent.py:476: ConvergenceWarning: Objective did not converge. You might want to increase the number of iterations. Duality gap: 38.39520969171988, tolerance: 0.00780848903553025\n",
      "  positive)\n",
      "/Users/juanvila1/opt/anaconda3/lib/python3.7/site-packages/sklearn/linear_model/_coordinate_descent.py:476: ConvergenceWarning: Objective did not converge. You might want to increase the number of iterations. Duality gap: 35.80945160588095, tolerance: 0.007240263752949358\n",
      "  positive)\n",
      "/Users/juanvila1/opt/anaconda3/lib/python3.7/site-packages/sklearn/linear_model/_coordinate_descent.py:476: ConvergenceWarning: Objective did not converge. You might want to increase the number of iterations. Duality gap: 37.64517634947266, tolerance: 0.11757999937081998\n",
      "  positive)\n",
      "/Users/juanvila1/opt/anaconda3/lib/python3.7/site-packages/sklearn/linear_model/_coordinate_descent.py:476: ConvergenceWarning: Objective did not converge. You might want to increase the number of iterations. Duality gap: 37.044834069849855, tolerance: 3.0982139064896366\n",
      "  positive)\n",
      "/Users/juanvila1/opt/anaconda3/lib/python3.7/site-packages/sklearn/linear_model/_coordinate_descent.py:476: ConvergenceWarning: Objective did not converge. You might want to increase the number of iterations. Duality gap: 34.90136560423683, tolerance: 0.801647232383841\n",
      "  positive)\n",
      "/Users/juanvila1/opt/anaconda3/lib/python3.7/site-packages/sklearn/linear_model/_coordinate_descent.py:476: ConvergenceWarning: Objective did not converge. You might want to increase the number of iterations. Duality gap: 37.553171205894934, tolerance: 0.0077173297169849326\n",
      "  positive)\n",
      "/Users/juanvila1/opt/anaconda3/lib/python3.7/site-packages/sklearn/linear_model/_coordinate_descent.py:476: ConvergenceWarning: Objective did not converge. You might want to increase the number of iterations. Duality gap: 36.390297294713676, tolerance: 0.007386014418975853\n",
      "  positive)\n",
      "/Users/juanvila1/opt/anaconda3/lib/python3.7/site-packages/ipykernel_launcher.py:3: UserWarning: With alpha=0, this algorithm does not converge well. You are advised to use the LinearRegression estimator\n",
      "  This is separate from the ipykernel package so we can avoid doing imports until\n",
      "/Users/juanvila1/opt/anaconda3/lib/python3.7/site-packages/sklearn/linear_model/_coordinate_descent.py:476: UserWarning: Coordinate descent with no regularization may lead to unexpected results and is discouraged.\n",
      "  positive)\n",
      "/Users/juanvila1/opt/anaconda3/lib/python3.7/site-packages/sklearn/linear_model/_coordinate_descent.py:476: ConvergenceWarning: Objective did not converge. You might want to increase the number of iterations. Duality gap: 35.940962492965326, tolerance: 0.007515050373471977\n",
      "  positive)\n",
      "/Users/juanvila1/opt/anaconda3/lib/python3.7/site-packages/sklearn/linear_model/_coordinate_descent.py:476: ConvergenceWarning: Objective did not converge. You might want to increase the number of iterations. Duality gap: 37.91728592065878, tolerance: 0.23554265122422166\n",
      "  positive)\n",
      "/Users/juanvila1/opt/anaconda3/lib/python3.7/site-packages/sklearn/linear_model/_coordinate_descent.py:476: ConvergenceWarning: Objective did not converge. You might want to increase the number of iterations. Duality gap: 35.36929810157922, tolerance: 0.3988393163644875\n",
      "  positive)\n",
      "/Users/juanvila1/opt/anaconda3/lib/python3.7/site-packages/sklearn/linear_model/_coordinate_descent.py:476: ConvergenceWarning: Objective did not converge. You might want to increase the number of iterations. Duality gap: 37.818241342847585, tolerance: 0.007718778366501288\n",
      "  positive)\n",
      "/Users/juanvila1/opt/anaconda3/lib/python3.7/site-packages/sklearn/linear_model/_coordinate_descent.py:476: ConvergenceWarning: Objective did not converge. You might want to increase the number of iterations. Duality gap: 35.42827469910395, tolerance: 0.00722400661276001\n",
      "  positive)\n",
      "/Users/juanvila1/opt/anaconda3/lib/python3.7/site-packages/sklearn/linear_model/_coordinate_descent.py:476: ConvergenceWarning: Objective did not converge. You might want to increase the number of iterations. Duality gap: 36.92707213070246, tolerance: 0.11595406386493087\n",
      "  positive)\n",
      "/Users/juanvila1/opt/anaconda3/lib/python3.7/site-packages/sklearn/linear_model/_coordinate_descent.py:476: ConvergenceWarning: Objective did not converge. You might want to increase the number of iterations. Duality gap: 36.69589151811844, tolerance: 3.09675305693065\n",
      "  positive)\n"
     ]
    },
    {
     "name": "stderr",
     "output_type": "stream",
     "text": [
      "/Users/juanvila1/opt/anaconda3/lib/python3.7/site-packages/sklearn/linear_model/_coordinate_descent.py:476: ConvergenceWarning: Objective did not converge. You might want to increase the number of iterations. Duality gap: 34.68893181259501, tolerance: 0.8222281584516846\n",
      "  positive)\n",
      "/Users/juanvila1/opt/anaconda3/lib/python3.7/site-packages/sklearn/linear_model/_coordinate_descent.py:476: ConvergenceWarning: Objective did not converge. You might want to increase the number of iterations. Duality gap: 36.77609897990487, tolerance: 0.007572763385206523\n",
      "  positive)\n",
      "/Users/juanvila1/opt/anaconda3/lib/python3.7/site-packages/sklearn/linear_model/_coordinate_descent.py:476: ConvergenceWarning: Objective did not converge. You might want to increase the number of iterations. Duality gap: 36.564307900595985, tolerance: 0.007459705531385857\n",
      "  positive)\n",
      "/Users/juanvila1/opt/anaconda3/lib/python3.7/site-packages/ipykernel_launcher.py:3: UserWarning: With alpha=0, this algorithm does not converge well. You are advised to use the LinearRegression estimator\n",
      "  This is separate from the ipykernel package so we can avoid doing imports until\n",
      "/Users/juanvila1/opt/anaconda3/lib/python3.7/site-packages/sklearn/linear_model/_coordinate_descent.py:476: UserWarning: Coordinate descent with no regularization may lead to unexpected results and is discouraged.\n",
      "  positive)\n",
      "/Users/juanvila1/opt/anaconda3/lib/python3.7/site-packages/sklearn/linear_model/_coordinate_descent.py:476: ConvergenceWarning: Objective did not converge. You might want to increase the number of iterations. Duality gap: 35.86903545921042, tolerance: 0.007507484569292637\n",
      "  positive)\n",
      "/Users/juanvila1/opt/anaconda3/lib/python3.7/site-packages/sklearn/linear_model/_coordinate_descent.py:476: ConvergenceWarning: Objective did not converge. You might want to increase the number of iterations. Duality gap: 36.86439060222764, tolerance: 0.2375200045481892\n",
      "  positive)\n",
      "/Users/juanvila1/opt/anaconda3/lib/python3.7/site-packages/sklearn/linear_model/_coordinate_descent.py:476: ConvergenceWarning: Objective did not converge. You might want to increase the number of iterations. Duality gap: 34.31076028825277, tolerance: 0.3980488934705455\n",
      "  positive)\n",
      "/Users/juanvila1/opt/anaconda3/lib/python3.7/site-packages/sklearn/linear_model/_coordinate_descent.py:476: ConvergenceWarning: Objective did not converge. You might want to increase the number of iterations. Duality gap: 38.662522027764, tolerance: 0.007884971429789254\n",
      "  positive)\n",
      "/Users/juanvila1/opt/anaconda3/lib/python3.7/site-packages/sklearn/linear_model/_coordinate_descent.py:476: ConvergenceWarning: Objective did not converge. You might want to increase the number of iterations. Duality gap: 35.69920448298866, tolerance: 0.007230301883309281\n",
      "  positive)\n",
      "/Users/juanvila1/opt/anaconda3/lib/python3.7/site-packages/sklearn/linear_model/_coordinate_descent.py:476: ConvergenceWarning: Objective did not converge. You might want to increase the number of iterations. Duality gap: 37.78151311998146, tolerance: 0.11238764864769688\n",
      "  positive)\n",
      "/Users/juanvila1/opt/anaconda3/lib/python3.7/site-packages/sklearn/linear_model/_coordinate_descent.py:476: ConvergenceWarning: Objective did not converge. You might want to increase the number of iterations. Duality gap: 36.62672585697108, tolerance: 3.110516312539985\n",
      "  positive)\n",
      "/Users/juanvila1/opt/anaconda3/lib/python3.7/site-packages/sklearn/linear_model/_coordinate_descent.py:476: ConvergenceWarning: Objective did not converge. You might want to increase the number of iterations. Duality gap: 34.72791117878498, tolerance: 0.8146153884462572\n",
      "  positive)\n",
      "/Users/juanvila1/opt/anaconda3/lib/python3.7/site-packages/sklearn/linear_model/_coordinate_descent.py:476: ConvergenceWarning: Objective did not converge. You might want to increase the number of iterations. Duality gap: 37.42882025848762, tolerance: 0.007692335216653178\n",
      "  positive)\n",
      "/Users/juanvila1/opt/anaconda3/lib/python3.7/site-packages/sklearn/linear_model/_coordinate_descent.py:476: ConvergenceWarning: Objective did not converge. You might want to increase the number of iterations. Duality gap: 36.03413411578216, tolerance: 0.00736571623245656\n",
      "  positive)\n",
      "/Users/juanvila1/opt/anaconda3/lib/python3.7/site-packages/ipykernel_launcher.py:3: UserWarning: With alpha=0, this algorithm does not converge well. You are advised to use the LinearRegression estimator\n",
      "  This is separate from the ipykernel package so we can avoid doing imports until\n",
      "/Users/juanvila1/opt/anaconda3/lib/python3.7/site-packages/sklearn/linear_model/_coordinate_descent.py:476: UserWarning: Coordinate descent with no regularization may lead to unexpected results and is discouraged.\n",
      "  positive)\n",
      "/Users/juanvila1/opt/anaconda3/lib/python3.7/site-packages/sklearn/linear_model/_coordinate_descent.py:476: ConvergenceWarning: Objective did not converge. You might want to increase the number of iterations. Duality gap: 35.82391903568204, tolerance: 0.007501959853758587\n",
      "  positive)\n",
      "/Users/juanvila1/opt/anaconda3/lib/python3.7/site-packages/sklearn/linear_model/_coordinate_descent.py:476: ConvergenceWarning: Objective did not converge. You might want to increase the number of iterations. Duality gap: 37.108195068545704, tolerance: 0.2268907430315796\n",
      "  positive)\n",
      "/Users/juanvila1/opt/anaconda3/lib/python3.7/site-packages/sklearn/linear_model/_coordinate_descent.py:476: ConvergenceWarning: Objective did not converge. You might want to increase the number of iterations. Duality gap: 34.841155558431694, tolerance: 0.3899631325760305\n",
      "  positive)\n",
      "/Users/juanvila1/opt/anaconda3/lib/python3.7/site-packages/sklearn/linear_model/_coordinate_descent.py:476: ConvergenceWarning: Objective did not converge. You might want to increase the number of iterations. Duality gap: 38.20993599529422, tolerance: 0.007778356544682655\n",
      "  positive)\n",
      "/Users/juanvila1/opt/anaconda3/lib/python3.7/site-packages/sklearn/linear_model/_coordinate_descent.py:476: ConvergenceWarning: Objective did not converge. You might want to increase the number of iterations. Duality gap: 35.797764960323285, tolerance: 0.007267193405977108\n",
      "  positive)\n",
      "/Users/juanvila1/opt/anaconda3/lib/python3.7/site-packages/sklearn/linear_model/_coordinate_descent.py:476: ConvergenceWarning: Objective did not converge. You might want to increase the number of iterations. Duality gap: 37.53010455745118, tolerance: 0.11505170759972262\n",
      "  positive)\n",
      "/Users/juanvila1/opt/anaconda3/lib/python3.7/site-packages/sklearn/linear_model/_coordinate_descent.py:476: ConvergenceWarning: Objective did not converge. You might want to increase the number of iterations. Duality gap: 37.11805510992334, tolerance: 3.1655191395862605\n",
      "  positive)\n",
      "/Users/juanvila1/opt/anaconda3/lib/python3.7/site-packages/sklearn/linear_model/_coordinate_descent.py:476: ConvergenceWarning: Objective did not converge. You might want to increase the number of iterations. Duality gap: 34.55284804059211, tolerance: 0.8080653702163071\n",
      "  positive)\n",
      "/Users/juanvila1/opt/anaconda3/lib/python3.7/site-packages/sklearn/linear_model/_coordinate_descent.py:476: ConvergenceWarning: Objective did not converge. You might want to increase the number of iterations. Duality gap: 37.89164380898431, tolerance: 0.007774171541586641\n",
      "  positive)\n",
      "/Users/juanvila1/opt/anaconda3/lib/python3.7/site-packages/sklearn/linear_model/_coordinate_descent.py:476: ConvergenceWarning: Objective did not converge. You might want to increase the number of iterations. Duality gap: 36.71568139296345, tolerance: 0.007493825540526579\n",
      "  positive)\n"
     ]
    }
   ],
   "source": [
    "def lasso_prediction_outsample(X_train,X_test,Y_train,Y_test,alpha_c):\n",
    "    clf = sklearn.linear_model.Lasso(alpha=alpha_c,max_iter=20000)\n",
    "    clf = clf.fit(X_train,Y_train)\n",
    "    y_hat = clf.predict(X_test)\n",
    "    from sklearn.metrics import mean_squared_error\n",
    "    ee = mean_squared_error(Y_test, y_hat)\n",
    "    return ee\n",
    "\n",
    "\n",
    "\n",
    "def k_fold(fold, X, Y, alpha_c):\n",
    "    X_cv,Y_cv = cross_validation_split(X,Y,fold)\n",
    "    mean_ee = []\n",
    "    for i in range(10):\n",
    "        Y_test_iter = Y_cv[i]\n",
    "        X_test_iter = X_cv[i]\n",
    "        Y_train_iter = np.concatenate(Y_cv[:i]+Y_cv[i+1:], axis = 0)\n",
    "        X_train_iter = np.concatenate(X_cv[:i]+X_cv[i+1:], axis= 0)\n",
    "        ee = lasso_prediction_outsample(X_train_iter,X_test_iter,Y_train_iter,Y_test_iter,alpha_c)\n",
    "        mean_ee.append(ee)\n",
    "    return np.array(mean_ee).mean()\n",
    "\n",
    "#k_fold(10, X_train, Y_train,.2)\n",
    "\n",
    "\n",
    "rv_fold = []\n",
    "lambda_list_fold = []\n",
    "for alpha in range(0,41):\n",
    "    ee_i = k_fold(10, X_train, Y_train,alpha/1000)\n",
    "    rv_fold.append(ee_i)\n",
    "    lambda_list_fold.append(alpha/1000)\n",
    "\n",
    "    "
   ]
  },
  {
   "cell_type": "code",
   "execution_count": 23,
   "metadata": {},
   "outputs": [
    {
     "name": "stderr",
     "output_type": "stream",
     "text": [
      "/Users/juanvila1/opt/anaconda3/lib/python3.7/site-packages/ipykernel_launcher.py:3: UserWarning: With alpha=0, this algorithm does not converge well. You are advised to use the LinearRegression estimator\n",
      "  This is separate from the ipykernel package so we can avoid doing imports until\n",
      "/Users/juanvila1/opt/anaconda3/lib/python3.7/site-packages/sklearn/linear_model/_coordinate_descent.py:476: UserWarning: Coordinate descent with no regularization may lead to unexpected results and is discouraged.\n",
      "  positive)\n",
      "/Users/juanvila1/opt/anaconda3/lib/python3.7/site-packages/sklearn/linear_model/_coordinate_descent.py:476: ConvergenceWarning: Objective did not converge. You might want to increase the number of iterations. Duality gap: 40.24020434660464, tolerance: 0.008380765320095556\n",
      "  positive)\n",
      "/Users/juanvila1/opt/anaconda3/lib/python3.7/site-packages/sklearn/linear_model/_coordinate_descent.py:476: ConvergenceWarning: Objective did not converge. You might want to increase the number of iterations. Duality gap: 41.62204923132846, tolerance: 0.2591117588910421\n",
      "  positive)\n",
      "/Users/juanvila1/opt/anaconda3/lib/python3.7/site-packages/sklearn/linear_model/_coordinate_descent.py:476: ConvergenceWarning: Objective did not converge. You might want to increase the number of iterations. Duality gap: 38.708885909671906, tolerance: 0.43896326321194323\n",
      "  positive)\n",
      "/Users/juanvila1/opt/anaconda3/lib/python3.7/site-packages/sklearn/linear_model/_coordinate_descent.py:476: ConvergenceWarning: Objective did not converge. You might want to increase the number of iterations. Duality gap: 42.72347479098779, tolerance: 0.008694792525961344\n",
      "  positive)\n",
      "/Users/juanvila1/opt/anaconda3/lib/python3.7/site-packages/sklearn/linear_model/_coordinate_descent.py:476: ConvergenceWarning: Objective did not converge. You might want to increase the number of iterations. Duality gap: 39.58083389964084, tolerance: 0.008014154065908602\n",
      "  positive)\n",
      "/Users/juanvila1/opt/anaconda3/lib/python3.7/site-packages/sklearn/linear_model/_coordinate_descent.py:476: ConvergenceWarning: Objective did not converge. You might want to increase the number of iterations. Duality gap: 41.74101662085785, tolerance: 0.1289496209792154\n",
      "  positive)\n",
      "/Users/juanvila1/opt/anaconda3/lib/python3.7/site-packages/sklearn/linear_model/_coordinate_descent.py:476: ConvergenceWarning: Objective did not converge. You might want to increase the number of iterations. Duality gap: 40.69316021690358, tolerance: 3.4516748051157884\n",
      "  positive)\n",
      "/Users/juanvila1/opt/anaconda3/lib/python3.7/site-packages/sklearn/linear_model/_coordinate_descent.py:476: ConvergenceWarning: Objective did not converge. You might want to increase the number of iterations. Duality gap: 38.720254448302484, tolerance: 0.9073299438869279\n",
      "  positive)\n",
      "/Users/juanvila1/opt/anaconda3/lib/python3.7/site-packages/sklearn/linear_model/_coordinate_descent.py:476: ConvergenceWarning: Objective did not converge. You might want to increase the number of iterations. Duality gap: 41.78654753199599, tolerance: 0.008575671951391257\n",
      "  positive)\n",
      "/Users/juanvila1/opt/anaconda3/lib/python3.7/site-packages/sklearn/linear_model/_coordinate_descent.py:476: ConvergenceWarning: Objective did not converge. You might want to increase the number of iterations. Duality gap: 40.54864909267924, tolerance: 0.008247006912155852\n",
      "  positive)\n"
     ]
    },
    {
     "data": {
      "text/plain": [
       "[<matplotlib.lines.Line2D at 0x1a24a31810>]"
      ]
     },
     "execution_count": 23,
     "metadata": {},
     "output_type": "execute_result"
    },
    {
     "data": {
      "image/png": "[encoded data removed]",
      "text/plain": [
       "<Figure size 432x288 with 1 Axes>"
      ]
     },
     "metadata": {
      "needs_background": "light"
     },
     "output_type": "display_data"
    }
   ],
   "source": [
    "rv_cv = []\n",
    "lambda_cv_list = []\n",
    "for alpha in range(0,41):\n",
    "    ee_i = lasso_prediction_outsample(X_train,X_test,Y_train,Y_test,alpha/1000)\n",
    "    rv_cv.append(ee_i)\n",
    "    lambda_cv_list.append(alpha/1000)\n",
    "\n",
    "plt.plot(lambda_cv_list,rv_cv,color='r', label='True')\n",
    "plt.plot(lambda_cv_list,rv_fold,color='b', label='10-fold')"
   ]
  },
  {
   "cell_type": "code",
   "execution_count": 254,
   "metadata": {},
   "outputs": [
    {
     "data": {
      "text/plain": [
       "[]"
      ]
     },
     "execution_count": 254,
     "metadata": {},
     "output_type": "execute_result"
    }
   ],
   "source": [
    "lambda_cv_list"
   ]
  }
 ],
 "metadata": {
  "kernelspec": {
   "display_name": "Python 3",
   "language": "python",
   "name": "python3"
  },
  "language_info": {
   "codemirror_mode": {
    "name": "ipython",
    "version": 3
   },
   "file_extension": ".py",
   "mimetype": "text/x-python",
   "name": "python",
   "nbconvert_exporter": "python",
   "pygments_lexer": "ipython3",
   "version": "3.7.4"
  }
 },
 "nbformat": 4,
 "nbformat_minor": 4
}
