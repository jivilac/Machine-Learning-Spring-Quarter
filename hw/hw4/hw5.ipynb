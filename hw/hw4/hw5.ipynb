{
 "cells": [
  {
   "cell_type": "markdown",
   "metadata": {},
   "source": [
    "# Machine Learning: HW 5\n",
    "Juan Vila"
   ]
  },
  {
   "cell_type": "markdown",
   "metadata": {},
   "source": [
    "## Part 1"
   ]
  },
  {
   "cell_type": "markdown",
   "metadata": {},
   "source": [
    "### A"
   ]
  },
  {
   "cell_type": "markdown",
   "metadata": {},
   "source": [
    "Since we are calculating P(x,y) is a generative model"
   ]
  },
  {
   "cell_type": "markdown",
   "metadata": {},
   "source": [
    "### B"
   ]
  },
  {
   "cell_type": "markdown",
   "metadata": {},
   "source": [
    "$$L(x_i| \\lambda) = \\prod_{i=1}^{n} \\frac{\\lambda^{x_i}e^{-\\lambda}}{x_i!}$$\n",
    "$$l(x_i| \\lambda) = \\sum_{i=1}^{n} ln(\\lambda) x_i -\\lambda-ln(x_i!)$$\n",
    "$$ \\frac{\\partial l(x_i| \\lambda)}{\\partial \\lambda} = \\sum_{i=1}^{n} \\frac{ x_i}{\\lambda} -1$$\n",
    "$$  \\hat{\\lambda}= \\sum_{i=1}^{n} \\frac{ x_i}{n}$$"
   ]
  },
  {
   "cell_type": "markdown",
   "metadata": {},
   "source": [
    "### C"
   ]
  },
  {
   "cell_type": "markdown",
   "metadata": {},
   "source": [
    "We know that since is we are applying a Naive Bayes model, we have that $P(x,y) = p(y)p(x/y)$, then we know that $p(y)=p_1^{n}p_0^{(N-n)}$ also we know that $p_0 =  1-p_1$. Then $p(y)=p_1^{n}(1-p_1)^{(N-n)}$ . We know for MLE estimation that $ \\hat{p}_1 = \\frac{\\sum numberofcases c=1}{sumallofcases} $\n",
    "\n",
    "\n",
    "\n",
    "On the case of $p(x_i/y=c)$ ~ Poisson($\\lambda_c,X_i|y=c)$, were c $\\epsilon$ {1,0}. This means when we construct the likehood function we get:\n",
    "\n",
    "$$P(x/y )= \\prod_{i=1}^{N} P(X_i|\\lambda_c , Y=c) $$\n",
    "\n",
    "Then the joint distribution is:\n",
    "\n",
    "$$P(x,y )= p_1^{n}(1-p_1)^{(N-n)}\\prod_{i=1}^{N} P(X_i|\\lambda_c , Y=c) $$\n",
    "\n",
    "Then if we divide by the value of P(X), but we know that P(X) is not dependent in Y, meaning that not affect the optimization problem, then:\n",
    "\n",
    "$$P(Y/X )= \\frac{p_1^{n}(1-p_1)^{(N-n)}\\prod_{i=1}^{N} P(X_i|\\lambda_c , Y=c)}{P(X)} $$\n",
    "$$P(Y/X ) \\propto p_1^{n}(1-p_1)^{(N-n)}\\prod_{i=1}^{N} P(X_i|\\lambda_c , Y=c) $$"
   ]
  },
  {
   "cell_type": "markdown",
   "metadata": {},
   "source": [
    "### D"
   ]
  },
  {
   "cell_type": "markdown",
   "metadata": {},
   "source": [
    "For solving for the boundery we need to solve the following equation:\n",
    "\n",
    "$$ P(y=1) \\prod_{i=1}^{n_1} P(X_i|\\hat{\\lambda}_1 , Y=1) = P(y=0) \\prod_{i=1}^{n_0} P(X_i|\\hat{\\lambda}_0 , Y=0)$$\n",
    "$$ y=f(x) =ln\\left( \\frac{P(y=1) \\prod_{i=1}^{n_1} P(X_i|\\hat{\\lambda}_1 , Y=1)}{ P(y=0) \\prod_{i=1}^{n_0} P(X_i|\\hat{\\lambda}_0 , Y=0)}\\right) $$\n",
    "\n",
    "$$ ln\\left( \\frac{P(y=1)}{P(y=0) }\\right) + ln\\left( \\frac{\\prod_{i=1}^{n_1} P(X_i|\\hat{\\lambda_1} , Y=1)}{ \\prod_{i=1}^{n_0} P(X_i|\\hat{\\lambda_0} , Y=0)}\\right) $$\n",
    "\n",
    "$$ ln\\left( \\frac{\\hat{p}_1}{1-\\hat{p}_1 }\\right) + ln\\left( \\frac{\\prod_{i=1}^{n}\\frac{\\hat{\\lambda}_1^{x_i}e^{-\\hat{\\lambda}_1}}{x_i!}}{ \\prod_{i=1}^{n} \\frac{\\hat{\\lambda}_0^{x_i}e^{-\\hat{\\lambda}_0}}{x_i!}}\\right) $$\n",
    "\n",
    "$$ ln\\left( \\frac{\\hat{p}_1}{1-\\hat{p}_1 }\\right) + ln\\left( \\frac{\\prod_{i=1}^{n}\\hat{\\lambda}_1^{x_i}e^{-\\hat{\\lambda}_1}}{\\prod_{i=1}^{}\\hat{\\lambda}_0^{x_i}e^{-\\hat{\\lambda}_0}}\\right) $$\n",
    "\n",
    "\n",
    "$$ ln\\left( \\frac{\\hat{p}_1}{1-\\hat{p}_1 }\\right) + n(\\hat{\\lambda}_0- \\hat{\\lambda}_1) +  \\sum_{i=1}^{n}ln(\\hat{\\lambda}_1-\\hat{\\lambda}_0)x_i $$\n",
    "\n",
    "Now we can replace $ a=  ln\\left( \\frac{\\hat{p}_1}{1-\\hat{p}_1 }\\right) + n(\\hat{\\lambda}_0- \\hat{\\lambda}_1) $ and $b=ln(\\hat{\\lambda}_1-\\hat{\\lambda}_0)$ . Now following the logic of this equations we can see that if right side part of the first equation is greater than the left part (i.e. $P(y=1)P(X|Y=1)>P(y=0)P(X|Y=0$) implies that the predicted label is y=1. This is reflected in the following equation:\n",
    "\n",
    "$$ a +  \\sum_{i=1}^{n}b x_i $$\n",
    "\n",
    "\\begin{equation*}\n",
    "    y_{pred}=\n",
    "    \\begin{cases}\n",
    "      1,& for & a +  \\sum_{i=1}^{n}b x_i >0 \\\\\n",
    "     0,& otherwise\n",
    "    \\end{cases}\n",
    "\\end{equation*}\n"
   ]
  },
  {
   "cell_type": "markdown",
   "metadata": {},
   "source": [
    "### E"
   ]
  },
  {
   "cell_type": "markdown",
   "metadata": {},
   "source": [
    "We can build the bayes optimal classifier as :\n",
    "\n",
    "\n",
    "\\begin{equation*}\n",
    "    C(y_{pred},y_{true})=1-\\delta=\n",
    "    \\begin{cases}\n",
    "      1,& if & y_{true}!=y_{pred} \\\\\n",
    "     0,& otherwise\n",
    "    \\end{cases}\n",
    "\\end{equation*}\n",
    "\n",
    "\n",
    "Where $\\delta$ is the Kronecker Delta function then if we replace in the this classifier we can see that:\n",
    "$$C_x(y_{pred},y_{true})=\\sum_{y_{true}} C(y_{pred},y_{true}) P(Y=y_{true}|X) $$\n",
    "$$C_x(y_{pred},y_{true})=\\sum_{y_{true}} (1-\\delta) P(Y=y_{true}|X) $$\n",
    "$$C_x(y_{pred},y_{true})=\\sum_{y_{true}}  P(Y=y_{true}|X)dy_{true} -\\sum_{y_{true}} \\delta P(Y=y_{true}|X) $$\n",
    "$$C_x(y_{pred},y_{true})=1 - P(Y=y_{pred}|X) $$\n",
    "\n",
    "Now we can see that have the same expression that know that if we maximize the probability of predict the label can be achive minimizing the loss function. Since we normally would do y=argmax $ P(Y=y_{pred}|X)$, then is the same that minimize 1- $ P(Y=y_{pred}|X)$ which is the minimization of the error of the label, which is minimize the cost function.\n"
   ]
  },
  {
   "cell_type": "markdown",
   "metadata": {},
   "source": [
    "## Part 2"
   ]
  },
  {
   "cell_type": "markdown",
   "metadata": {},
   "source": [
    "$$ E = -\\sum_{n=1}^{N}\\sum_{k=1}^{K} \\tau_{nk}ln\\left(\\frac{exp(a_k^T X_n)}{\\sum_{j=1}^{K}exp(a_j^T X_n)}\\right) $$\n",
    "$$ E = -\\sum_{n=1}^{N}\\sum_{k=1}^{K} \\tau_{nk}\\left[a_k^T X_n -ln\\left(\\sum_{j=1}^{K}exp(a_j^T X_n)\\right)\\right ] $$\n",
    "$$ \\frac{\\partial E}{\\partial a_k} = \\sum_{n=1}^{N} \\tau_{nk}\\frac{exp(a_k^T X_n)}{\\sum_{j=1}^{K}exp(a_j^T X_n)}X_n -\\tau_{nk}X_n +\\tau_{nk!=k} \\frac{exp(a_k^T X_n)}{\\sum_{j=1}^{K}exp(a_j^T X_n)}X_n  $$\n"
   ]
  },
  {
   "cell_type": "markdown",
   "metadata": {},
   "source": [
    "Now we can see that we have a  $\\tau$ for k and another for the other values of K!=k, multipliying the $P[Y=k|X_n,a_k]$ , then this implies $\\tau$ converts into a 1, then desapears. Now if we replace using this fact we get the follwing expresion. If we replace by the fact that $P[Y=k|X_n,a_k]=\\frac{exp(a_k^T X_n)}{\\sum_{j=1}^{K}exp(a_j^T X_n)}$ we get:"
   ]
  },
  {
   "cell_type": "markdown",
   "metadata": {},
   "source": [
    "$$ \\frac{\\partial E}{\\partial a_k} = \\sum_{n=1}^{N} X_n \\left[\\frac{exp(a_k^T X_n)}{\\sum_{j=1}^{K}exp(a_j^T X_n)} -\\tau_{nk}\\right ] $$"
   ]
  },
  {
   "cell_type": "markdown",
   "metadata": {},
   "source": [
    "$$ \\frac{\\partial E}{\\partial a_k} = \\sum_{n=1}^{N} X_n \\left[P[Y=k|X_n,a_k] -\\tau_{nk}\\right ] $$"
   ]
  },
  {
   "cell_type": "markdown",
   "metadata": {},
   "source": [
    "## Part 3 "
   ]
  },
  {
   "cell_type": "code",
   "execution_count": 1131,
   "metadata": {},
   "outputs": [],
   "source": [
    "# python\n",
    "import numpy as np\n",
    "from sklearn . model_selection import train_test_split\n",
    "from sklearn . preprocessing import StandardScaler\n",
    "from sklearn . datasets import make_classification\n",
    "X , y = make_classification ( n_features =2 ,n_redundant =0 ,n_informative =2 ,random_state =1 ,n_clusters_per_class =1)\n",
    "rng = np . random . RandomState (2)\n",
    "X += 2 * rng . uniform ( size = X . shape )\n",
    "linearly_separable = (X , y )\n",
    "X = StandardScaler (). fit_transform ( X )\n",
    "X_train , X_test , y_train , y_test = \\\n",
    "train_test_split (X , y , test_size =.4 , random_state =42)\n",
    "\n",
    "# Initialize fitting parameters\n",
    "initial_theta = np . zeros (( X . shape [1] , 1))\n",
    "# Set regularization parameter lambda and learning rate eta\n",
    "Lambda = 0.1\n",
    "Eta = 0.01\n",
    "\n",
    "y_train = np.where(y_train == 0 , -1,1)\n",
    "y_test = np.where(y_test == 0 , -1,1)"
   ]
  },
  {
   "cell_type": "markdown",
   "metadata": {},
   "source": [
    "### A"
   ]
  },
  {
   "cell_type": "code",
   "execution_count": 1159,
   "metadata": {},
   "outputs": [],
   "source": [
    "def lossFunction ( theta , X , y , Lambda ,index):\n",
    "#\n",
    "# IMPLEMENT THE LOSS AND GRADIENT FUNCTION\n",
    "# OF REGULARIZED LOGISTIC REGRESSION\n",
    "#\n",
    "#\n",
    "    loss=0\n",
    "    for ind, val in enumerate(X):\n",
    "        z = np.log(1 + np.exp(-y[ind] * np.dot(np.transpose(theta),X[ind]))) +  Lambda*(theta**2).sum()\n",
    "        loss = loss + z[0]\n",
    "    \n",
    "    grad = (y[index]*X[index])\n",
    "\n",
    "    grad2 = 1/(1+np.exp(y[index] * np.dot(np.transpose(theta),np.transpose(X[index])) ))\n",
    "    \n",
    "    grad3 = grad * grad2\n",
    "\n",
    "\n",
    "    grad4 = grad3.reshape(theta.shape[0],1)\n",
    "\n",
    "\n",
    "    return loss ,grad4\n",
    "\n",
    "def gradientDescent(X ,y , theta , eta , Lambda , tolerance ):\n",
    "#\n",
    "# IMPLEMENT THE ( STOCHASTIC ) GRADIENT DESCENT ALGORITHM\n",
    "# USING THE lossFunction DEFINED ABOVE\n",
    "#\n",
    "#\n",
    "    import time\n",
    "\n",
    "    start = time.time()\n",
    "    p=X.shape[1]\n",
    "    index = np.random.choice(X.shape[0], 1, replace=False) \n",
    "    i=0\n",
    "    L=[0]\n",
    "    theta_t_1 =  theta.copy()\n",
    "    \n",
    "    while True:\n",
    "        theta_t = theta_t_1.reshape(p,1)*(1- 2*Lambda*eta) + eta*lossFunction(theta_t_1 , X , y , Lambda,index)[1].reshape(p,1)\n",
    "        i+=1\n",
    "        #print(\"log-likehood:{}, iteration:{} \".format(lossFunction(theta_t_1 , X , y , Lambda,index )[0],i))\n",
    "        L.append(lossFunction(theta_t , X , y , Lambda,index )[0])\n",
    "        index = np.random.choice(X.shape[0], 1, replace=False)\n",
    "        if(abs(L[len(L)-1] - L[len(L)-2])) < tolerance:\n",
    "            break\n",
    "        \n",
    "        theta_t_1 = theta_t.copy()\n",
    "  \n",
    "    end = time.time()\n",
    "    print(\"Execution time:{}\".format(end - start))\n",
    "    return theta_t,i,L\n"
   ]
  },
  {
   "cell_type": "code",
   "execution_count": 922,
   "metadata": {},
   "outputs": [],
   "source": [
    "X_train_c = np.column_stack((X_train,np.ones([60,1])))\n",
    "X_test_c = np.column_stack((X_test,np.ones([40,1])))"
   ]
  },
  {
   "cell_type": "code",
   "execution_count": 1101,
   "metadata": {},
   "outputs": [],
   "source": [
    "test = np.random.rand(2,1)"
   ]
  },
  {
   "cell_type": "code",
   "execution_count": 1160,
   "metadata": {},
   "outputs": [
    {
     "name": "stdout",
     "output_type": "stream",
     "text": [
      "Execution time:0.914686918258667\n"
     ]
    }
   ],
   "source": [
    "#X_train_c = np.stack(X_train,np.ones())\n",
    "result_A = gradientDescent(X_train ,y_train , test,Eta , Lambda, 1e-5 )\n",
    "\n",
    "\n"
   ]
  },
  {
   "cell_type": "code",
   "execution_count": 1161,
   "metadata": {},
   "outputs": [
    {
     "data": {
      "text/plain": [
       "array([[0.40151728],\n",
       "       [0.67787076]])"
      ]
     },
     "execution_count": 1161,
     "metadata": {},
     "output_type": "execute_result"
    }
   ],
   "source": [
    "test"
   ]
  },
  {
   "cell_type": "code",
   "execution_count": 1162,
   "metadata": {},
   "outputs": [
    {
     "data": {
      "text/plain": [
       "array([[-0.86550388],\n",
       "       [ 0.03292422]])"
      ]
     },
     "execution_count": 1162,
     "metadata": {},
     "output_type": "execute_result"
    }
   ],
   "source": [
    "result_A[0]"
   ]
  },
  {
   "cell_type": "markdown",
   "metadata": {},
   "source": [
    "### B"
   ]
  },
  {
   "cell_type": "code",
   "execution_count": 1163,
   "metadata": {},
   "outputs": [
    {
     "data": {
      "text/plain": [
       "Text(0, 0.5, '-Log()')"
      ]
     },
     "execution_count": 1163,
     "metadata": {},
     "output_type": "execute_result"
    },
    {
     "data": {
      "image/png": "[encoded data removed]",
      "text/plain": [
       "<Figure size 432x288 with 1 Axes>"
      ]
     },
     "metadata": {
      "needs_background": "light"
     },
     "output_type": "display_data"
    }
   ],
   "source": [
    "import matplotlib.pyplot as plt\n",
    "plt.plot(result_A[2][1:],color='r', label='error square')\n",
    "plt.xlabel('Iterations')\n",
    "plt.ylabel(\"-Log()\")"
   ]
  },
  {
   "cell_type": "markdown",
   "metadata": {},
   "source": [
    "### C"
   ]
  },
  {
   "cell_type": "code",
   "execution_count": 1164,
   "metadata": {},
   "outputs": [
    {
     "name": "stdout",
     "output_type": "stream",
     "text": [
      "Training Accuracy:0.95\n",
      "Test Accuracy:0.95\n"
     ]
    }
   ],
   "source": [
    "y_hat_test = 1/(1+np.exp(-X_test@result_A[0]))\n",
    "y_hat_train = 1/(1+np.exp(-X_train@result_A[0]))\n",
    "y_predict_test = np.where(y_hat_test>.5,1,-1)\n",
    "y_predict_train = np.where(y_hat_train>.5,1,-1)\n",
    "acc_test = 0\n",
    "acc_train = 0\n",
    "for i, val in  enumerate(y_train):\n",
    "    if y_train[i] == y_predict_train[i]  :\n",
    "        acc_train= acc_train+ 1\n",
    "\n",
    "\n",
    "for i, val in  enumerate(y_test):\n",
    "    if y_test[i] == y_predict_test[i] :\n",
    "        acc_test=acc_test+1\n",
    "        \n",
    "        \n",
    "acc_test = acc_test/len(y_test) \n",
    "acc_train = acc_train/len(y_train)  \n",
    "\n",
    "#acc_test = acc_test\n",
    "#acc_train = acc_train\n",
    "\n",
    "\n",
    "\n",
    "print(\"Training Accuracy:{}\".format(acc_train))\n",
    "print(\"Test Accuracy:{}\".format(acc_test))\n"
   ]
  },
  {
   "cell_type": "code",
   "execution_count": 1157,
   "metadata": {},
   "outputs": [
    {
     "data": {
      "text/plain": [
       "[<matplotlib.lines.Line2D at 0x1a27209450>]"
      ]
     },
     "execution_count": 1157,
     "metadata": {},
     "output_type": "execute_result"
    },
    {
     "data": {
      "image/png": "[encoded data removed]",
      "text/plain": [
       "<Figure size 432x288 with 1 Axes>"
      ]
     },
     "metadata": {
      "needs_background": "light"
     },
     "output_type": "display_data"
    }
   ],
   "source": [
    "from matplotlib.colors import ListedColormap\n",
    "\n",
    "\n",
    "xx1_test = np.linspace( X_test [: , 0].min(), X_test [: , 0].max(),40)\n",
    "bound_test = - xx1_test *result_A[0][0][0]/result_A[0][1][0]  #result_A[0][2][0]/result_A[0][1][0]*0\n",
    "\n",
    "xx1_train = np.linspace( X_train [: , 0].min(), X_train [: , 0].max(),40)\n",
    "bound_train = - xx1_train *result_A[0][0][0]/result_A[0][1][0] #result_A[0][2][0]/result_A[0][1][0]*0\n",
    "\n",
    "x_min , x_max = X [: , 0]. min () - .5 , X [: , 0]. max () + .5\n",
    "y_min , y_max = X [: , 1]. min () - .5 , X [: , 1]. max () + .5\n",
    "h = .02 # step size in the mesh\n",
    "xx , yy = np . meshgrid ( np . arange ( x_min , x_max , h ) ,\n",
    "np . arange ( y_min , y_max , h ))\n",
    "# plot the dataset\n",
    "cm = plt . cm . RdBu\n",
    "cm_bright = ListedColormap (['#FF0000','#0000FF'])\n",
    "# Plot the training points\n",
    "plt . scatter ( X_train [: , 0] , X_train [: , 1] , c = y_train ,\n",
    "cmap = cm_bright , edgecolors ='k')\n",
    "plt.plot(xx1_train,bound_train)\n",
    "\n",
    "\n"
   ]
  },
  {
   "cell_type": "code",
   "execution_count": 1158,
   "metadata": {},
   "outputs": [
    {
     "data": {
      "text/plain": [
       "[<matplotlib.lines.Line2D at 0x1a2735f410>]"
      ]
     },
     "execution_count": 1158,
     "metadata": {},
     "output_type": "execute_result"
    },
    {
     "data": {
      "image/png": "[encoded data removed]",
      "text/plain": [
       "<Figure size 432x288 with 1 Axes>"
      ]
     },
     "metadata": {
      "needs_background": "light"
     },
     "output_type": "display_data"
    }
   ],
   "source": [
    "# and test points\n",
    "plt . scatter ( X_test [: , 0] , X_test [: , 1] , c = y_test ,\n",
    "cmap = cm_bright , alpha =0.6 , edgecolors ='k')\n",
    "#plt.plot( X_test [: , 0],bound)\n",
    "plt.plot(xx1_test,bound_test)"
   ]
  }
 ],
 "metadata": {
  "kernelspec": {
   "display_name": "Python 3",
   "language": "python",
   "name": "python3"
  },
  "language_info": {
   "codemirror_mode": {
    "name": "ipython",
    "version": 3
   },
   "file_extension": ".py",
   "mimetype": "text/x-python",
   "name": "python",
   "nbconvert_exporter": "python",
   "pygments_lexer": "ipython3",
   "version": "3.7.4"
  }
 },
 "nbformat": 4,
 "nbformat_minor": 2
}
